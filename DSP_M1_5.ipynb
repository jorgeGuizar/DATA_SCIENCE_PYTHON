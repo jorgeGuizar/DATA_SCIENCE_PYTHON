{
 "cells": [
  {
   "cell_type": "markdown",
   "metadata": {},
   "source": [
    "# Course Python basic data science Module 5\n",
    "## Python programming\n",
    "\n",
    " - Learning Objectives\n",
    "\n",
    "- Demonstrate how to use NumPy to create multi-dimensionl arrays.\n",
    "- Introduction to API"
   ]
  },
  {
   "cell_type": "markdown",
   "metadata": {},
   "source": [
    "1) The Basics and Array Creation \n",
    "\n",
    "2) Indexing and Slicing \n",
    "\n",
    "3) Basic Operations \n",
    "\n",
    "4) Universal Functions. "
   ]
  },
  {
   "cell_type": "code",
   "execution_count": 70,
   "metadata": {},
   "outputs": [],
   "source": [
    "import time \n",
    "import sys\n",
    "import numpy as np \n",
    "import matplotlib.pyplot as plt\n",
    "%matplotlib inline"
   ]
  },
  {
   "cell_type": "code",
   "execution_count": 19,
   "metadata": {},
   "outputs": [
    {
     "name": "stdout",
     "output_type": "stream",
     "text": [
      "<class 'numpy.ndarray'>\n",
      "int32 float64\n"
     ]
    }
   ],
   "source": [
    "#list contain store and acess data associated with an index\n",
    "a=[\"0\",1,\"two\",\"3\",4]\n",
    "# numpy array similar to a list and each element is same time\n",
    "aa=np.arange(0,5)\n",
    "ap=np.array([0,1.,2.,3.,4.])\n",
    "#aa can be accesed by brackets\n",
    "print(type(aa))\n",
    "print(aa.dtype,ap.dtype)\n",
    "M=np.eye(5)"
   ]
  },
  {
   "cell_type": "code",
   "execution_count": 25,
   "metadata": {},
   "outputs": [
    {
     "name": "stdout",
     "output_type": "stream",
     "text": [
      "5\n",
      "vector dimension: 1 Matrix dimension: 2\n",
      "5 5\n"
     ]
    }
   ],
   "source": [
    "#length of the array\n",
    "print(aa.size)\n",
    "# represents the number of dimensions or rank of the array\n",
    "print(\"vector dimension:\",aa.ndim,\"Matrix dimension:\",M.ndim)\n",
    "# the shape nodule is a ntuple of integers indicating size \n",
    "X,Y=M.shape\n",
    "print(X,Y)\n"
   ]
  },
  {
   "cell_type": "code",
   "execution_count": 26,
   "metadata": {},
   "outputs": [
    {
     "data": {
      "text/plain": [
       "dtype('float64')"
      ]
     },
     "execution_count": 26,
     "metadata": {},
     "output_type": "execute_result"
    }
   ],
   "source": [
    "#We can create a numpy array with real numbers. \n",
    "#When we check the type of the array, we get\n",
    "#numpy.ndarray. If we examine the attribute \"dtype,\" we see float 64 as the elements are\n",
    "#not integers\n",
    "b=np.array([1.2,3.4,42,65.5])\n",
    "b.dtype\n",
    "#numpy.org"
   ]
  },
  {
   "cell_type": "markdown",
   "metadata": {},
   "source": [
    "## indexing ans slicing"
   ]
  },
  {
   "cell_type": "code",
   "execution_count": 30,
   "metadata": {},
   "outputs": [
    {
     "data": {
      "text/plain": [
       "array([100. ,  15. ,   2.5,   5.5,   5. ,   6. ,   8. ,   9. ,   9. ])"
      ]
     },
     "execution_count": 30,
     "metadata": {},
     "output_type": "execute_result"
    }
   ],
   "source": [
    "c=np.array([20,15,2.5,5.5,5,6,8,9,9])\n",
    "c[0]=100\n",
    "c"
   ]
  },
  {
   "cell_type": "code",
   "execution_count": 39,
   "metadata": {},
   "outputs": [
    {
     "name": "stdout",
     "output_type": "stream",
     "text": [
      "[15.   2.5  5.5]\n",
      "[  9.   5. 100.]\n",
      "[100.   5.   9.]\n"
     ]
    }
   ],
   "source": [
    "#from position 1 to 3 cuz N-1\n",
    "d=c[1:4]\n",
    "print(d)\n",
    "# here we took every thing fom position -1 to 0 very 4 \n",
    "# but it is displayed ina  reverse way\n",
    "e=c[::-4]\n",
    "print(e)\n",
    "# the opostite\n",
    "d=c[::4]\n",
    "print(d)"
   ]
  },
  {
   "cell_type": "markdown",
   "metadata": {},
   "source": [
    "Numpy makes easier to do operations using less memory."
   ]
  },
  {
   "cell_type": "code",
   "execution_count": 44,
   "metadata": {},
   "outputs": [
    {
     "name": "stdout",
     "output_type": "stream",
     "text": [
      "[1 1]\n",
      "[ 1 -1]\n",
      "[0 0]\n",
      "0\n"
     ]
    }
   ],
   "source": [
    "u=np.array([1,0])\n",
    "v=np.array([0,1])\n",
    "print(u+v)\n",
    "print(u-v)\n",
    "#vector substraction\n",
    "#z=[]\n",
    "#for n,m in zip(u,v)\n",
    "    #z.appen(n+m)\n",
    "# linear combination\n",
    "print(u*v)\n",
    "print(np.dot(u,v))"
   ]
  },
  {
   "cell_type": "code",
   "execution_count": 46,
   "metadata": {},
   "outputs": [
    {
     "data": {
      "text/plain": [
       "array([0, 2])"
      ]
     },
     "execution_count": 46,
     "metadata": {},
     "output_type": "execute_result"
    }
   ],
   "source": [
    "#multiplication witha  scalar\n",
    "z=2*v\n",
    "z"
   ]
  },
  {
   "cell_type": "code",
   "execution_count": 49,
   "metadata": {},
   "outputs": [
    {
     "name": "stdout",
     "output_type": "stream",
     "text": [
      "[3 4]\n",
      "7\n"
     ]
    }
   ],
   "source": [
    "u=np.array([1,2])\n",
    "v=np.array([3,2])\n",
    "print(u*v)\n",
    "#u.T*v\n",
    "print(np.dot(u,v))"
   ]
  },
  {
   "cell_type": "code",
   "execution_count": 51,
   "metadata": {},
   "outputs": [
    {
     "name": "stdout",
     "output_type": "stream",
     "text": [
      "[101 102 103  99]\n"
     ]
    }
   ],
   "source": [
    "# adding constants....broadcasting\n",
    "u=np.array([1,2,3,-1])\n",
    "print(u+100)"
   ]
  },
  {
   "cell_type": "code",
   "execution_count": 54,
   "metadata": {},
   "outputs": [
    {
     "name": "stdout",
     "output_type": "stream",
     "text": [
      "7.0 7.0\n"
     ]
    }
   ],
   "source": [
    "# UNIVERSAL FUNCTIONS\n",
    "# OPERATION THAT OPERATES NDARRAYS\n",
    "a=np.array([1,3,4,5,6,7,3,4,3,34])\n",
    "#3average value\n",
    "print(a.mean(), np.mean(a))"
   ]
  },
  {
   "cell_type": "code",
   "execution_count": 55,
   "metadata": {},
   "outputs": [
    {
     "name": "stdout",
     "output_type": "stream",
     "text": [
      "5 5 -2 -2\n"
     ]
    }
   ],
   "source": [
    "# max and mean\n",
    "b=np.array([1,-2,3,4,5])\n",
    "print(b.max(),np.max(b),b.min(),np.min(b))"
   ]
  },
  {
   "cell_type": "code",
   "execution_count": 61,
   "metadata": {},
   "outputs": [
    {
     "data": {
      "text/plain": [
       "[<matplotlib.lines.Line2D at 0x27684490588>]"
      ]
     },
     "execution_count": 61,
     "metadata": {},
     "output_type": "execute_result"
    },
    {
     "data": {
      "image/png": "[encoded data removed]",
      "text/plain": [
       "<Figure size 432x288 with 1 Axes>"
      ]
     },
     "metadata": {
      "needs_background": "light"
     },
     "output_type": "display_data"
    }
   ],
   "source": [
    "#We can use numpy to create functions that\n",
    "#map numpy arrays to new numpy arrays.\n",
    "x=np.array([0,np.pi/2,np.pi])\n",
    "y=np.sin(x)\n",
    "plt.plot(x,y)"
   ]
  },
  {
   "cell_type": "code",
   "execution_count": 64,
   "metadata": {},
   "outputs": [
    {
     "name": "stdout",
     "output_type": "stream",
     "text": [
      "[-2. -1.  0.  1.  2.]\n"
     ]
    }
   ],
   "source": [
    "# np.linspace returns evenly spaced  arrays on an interval\n",
    "print(np.linspace(-2,2,num=5))# where num is the number of samples"
   ]
  },
  {
   "cell_type": "code",
   "execution_count": 68,
   "metadata": {},
   "outputs": [
    {
     "data": {
      "image/png": "[encoded data removed]",
      "text/plain": [
       "<Figure size 432x288 with 1 Axes>"
      ]
     },
     "metadata": {
      "needs_background": "light"
     },
     "output_type": "display_data"
    }
   ],
   "source": [
    "x=np.linspace(0,2*np.pi,100)\n",
    "y=np.sin(x)\n",
    "plt.plot(x,y)\n",
    "\n",
    "plt.show()"
   ]
  },
  {
   "cell_type": "code",
   "execution_count": 71,
   "metadata": {},
   "outputs": [],
   "source": [
    "def Plotvec1(u, z, v):\n",
    "    \n",
    "    ax = plt.axes()\n",
    "    ax.arrow(0, 0, *u, head_width=0.05, color='r', head_length=0.1)\n",
    "    plt.text(*(u + 0.1), 'u')\n",
    "    \n",
    "    ax.arrow(0, 0, *v, head_width=0.05, color='b', head_length=0.1)\n",
    "    plt.text(*(v + 0.1), 'v')\n",
    "    ax.arrow(0, 0, *z, head_width=0.05, head_length=0.1)\n",
    "    plt.text(*(z + 0.1), 'z')\n",
    "    plt.ylim(-2, 2)\n",
    "    plt.xlim(-2, 2)\n",
    "\n",
    "def Plotvec2(a,b):\n",
    "    ax = plt.axes()\n",
    "    ax.arrow(0, 0, *a, head_width=0.05, color ='r', head_length=0.1)\n",
    "    plt.text(*(a + 0.1), 'a')\n",
    "    ax.arrow(0, 0, *b, head_width=0.05, color ='b', head_length=0.1)\n",
    "    plt.text(*(b + 0.1), 'b')\n",
    "    plt.ylim(-2, 2)\n",
    "    plt.xlim(-2, 2)"
   ]
  },
  {
   "cell_type": "code",
   "execution_count": 73,
   "metadata": {},
   "outputs": [
    {
     "name": "stdout",
     "output_type": "stream",
     "text": [
      "a[0]: 0\n",
      "a[1]: 1\n",
      "a[2]: two\n",
      "a[3]: 3\n",
      "a[4]: 4\n"
     ]
    }
   ],
   "source": [
    "# list\n",
    "a = [\"0\", 1, \"two\", \"3\", 4]\n",
    "\n",
    "print(\"a[0]:\", a[0])\n",
    "print(\"a[1]:\", a[1])\n",
    "print(\"a[2]:\", a[2])\n",
    "print(\"a[3]:\", a[3])\n",
    "print(\"a[4]:\", a[4])"
   ]
  },
  {
   "cell_type": "code",
   "execution_count": 75,
   "metadata": {},
   "outputs": [
    {
     "name": "stdout",
     "output_type": "stream",
     "text": [
      "[0 1 2 3 4]\n",
      "a[0]: 0\n",
      "a[1]: 1\n",
      "a[2]: 2\n",
      "a[3]: 3\n",
      "a[4]: 4\n"
     ]
    }
   ],
   "source": [
    "a = np.array([0, 1, 2, 3, 4])\n",
    "print(a)\n",
    "# Print each element\n",
    "\n",
    "print(\"a[0]:\", a[0])\n",
    "print(\"a[1]:\", a[1])\n",
    "print(\"a[2]:\", a[2])\n",
    "print(\"a[3]:\", a[3])\n",
    "print(\"a[4]:\", a[4])"
   ]
  },
  {
   "cell_type": "code",
   "execution_count": 76,
   "metadata": {},
   "outputs": [
    {
     "data": {
      "text/plain": [
       "numpy.ndarray"
      ]
     },
     "execution_count": 76,
     "metadata": {},
     "output_type": "execute_result"
    }
   ],
   "source": [
    "# Check the type of the array\n",
    "\n",
    "type(a)"
   ]
  },
  {
   "cell_type": "code",
   "execution_count": 77,
   "metadata": {},
   "outputs": [
    {
     "data": {
      "text/plain": [
       "dtype('int32')"
      ]
     },
     "execution_count": 77,
     "metadata": {},
     "output_type": "execute_result"
    }
   ],
   "source": [
    "a.dtype"
   ]
  },
  {
   "cell_type": "code",
   "execution_count": 78,
   "metadata": {},
   "outputs": [],
   "source": [
    "# Create a numpy array\n",
    "\n",
    "b = np.array([3.1, 11.02, 6.2, 213.2, 5.2])"
   ]
  },
  {
   "cell_type": "code",
   "execution_count": 80,
   "metadata": {},
   "outputs": [
    {
     "data": {
      "text/plain": [
       "dtype('float64')"
      ]
     },
     "execution_count": 80,
     "metadata": {},
     "output_type": "execute_result"
    }
   ],
   "source": [
    "# Check the type of array\n",
    "\n",
    "type(b)\n",
    "# Check the value type\n",
    "\n",
    "b.dtype"
   ]
  },
  {
   "cell_type": "code",
   "execution_count": 85,
   "metadata": {},
   "outputs": [
    {
     "data": {
      "text/plain": [
       "array([100,   1,   2, 300, 400])"
      ]
     },
     "execution_count": 85,
     "metadata": {},
     "output_type": "execute_result"
    }
   ],
   "source": [
    "# Create numpy array\n",
    "\n",
    "c = np.array([20, 1, 2, 3, 4])\n",
    "c\n",
    "c[0] = 100\n",
    "c\n",
    "# Assign the 5th element to 0\n",
    "\n",
    "c[4] = 0\n",
    "c\n",
    "# Slicing the numpy array\n",
    "\n",
    "d = c[1:4]\n",
    "d\n",
    "# Slicing the numpy array\n",
    "\n",
    "# Set the fourth element and fifth element to 300 and 400\n",
    "\n",
    "c[3:5] = 300, 400\n",
    "c"
   ]
  },
  {
   "cell_type": "code",
   "execution_count": 86,
   "metadata": {},
   "outputs": [
    {
     "data": {
      "text/plain": [
       "array([100,   2, 300])"
      ]
     },
     "execution_count": 86,
     "metadata": {},
     "output_type": "execute_result"
    }
   ],
   "source": [
    "# Create the index list\n",
    "\n",
    "select = [0, 2, 3]\n",
    "\n",
    "d = c[select]\n",
    "d"
   ]
  },
  {
   "cell_type": "code",
   "execution_count": 87,
   "metadata": {},
   "outputs": [
    {
     "data": {
      "text/plain": [
       "array([100000,      1, 100000, 100000,    400])"
      ]
     },
     "execution_count": 87,
     "metadata": {},
     "output_type": "execute_result"
    }
   ],
   "source": [
    "# Assign the specified elements to new value \n",
    "#accroding toa index list\n",
    "\n",
    "c[select] = 100000\n",
    "c"
   ]
  },
  {
   "cell_type": "code",
   "execution_count": 89,
   "metadata": {},
   "outputs": [
    {
     "name": "stdout",
     "output_type": "stream",
     "text": [
      "5\n",
      "1\n",
      "5\n"
     ]
    }
   ],
   "source": [
    "a = np.array([0, 1, 2, 3, 4])\n",
    "print(a.size)\n",
    "print(a.ndim)\n",
    "print(len(a))"
   ]
  },
  {
   "cell_type": "code",
   "execution_count": 91,
   "metadata": {},
   "outputs": [
    {
     "data": {
      "text/plain": [
       "3.1"
      ]
     },
     "execution_count": 91,
     "metadata": {},
     "output_type": "execute_result"
    }
   ],
   "source": [
    "mean = a.mean()\n",
    "mean\n",
    "standard_deviation=a.std()\n",
    "standard_deviation\n",
    "# Get the biggest value in the numpy array\n",
    "\n",
    "max_b = b.max()\n",
    "max_b\n",
    "# Get the smallest value in the numpy array\n",
    "\n",
    "min_b = b.min()\n",
    "min_b"
   ]
  },
  {
   "cell_type": "code",
   "execution_count": 92,
   "metadata": {},
   "outputs": [
    {
     "data": {
      "image/png": "[encoded data removed]",
      "text/plain": [
       "<Figure size 432x288 with 1 Axes>"
      ]
     },
     "metadata": {
      "needs_background": "light"
     },
     "output_type": "display_data"
    }
   ],
   "source": [
    "v = np.array([0, 1])\n",
    "# Numpy Array Addition\n",
    "u = np.array([1, 0])\n",
    "z = u + v\n",
    "\n",
    "\n",
    "# Plot numpy arrays\n",
    "\n",
    "Plotvec1(u, z, v)"
   ]
  },
  {
   "cell_type": "code",
   "execution_count": 93,
   "metadata": {},
   "outputs": [
    {
     "data": {
      "text/plain": [
       "array([1, 0, 3, 0, 0])"
      ]
     },
     "execution_count": 93,
     "metadata": {},
     "output_type": "execute_result"
    }
   ],
   "source": [
    "L=[1,2,3,4,5]\n",
    "L2=[1,0,1,0,0]\n",
    "a=np.array(L)\n",
    "b=np.array(L2)\n",
    "a*b"
   ]
  },
  {
   "cell_type": "code",
   "execution_count": 100,
   "metadata": {},
   "outputs": [
    {
     "name": "stdout",
     "output_type": "stream",
     "text": [
      "0\n"
     ]
    },
    {
     "data": {
      "image/png": "[encoded data removed]",
      "text/plain": [
       "<Figure size 432x288 with 1 Axes>"
      ]
     },
     "metadata": {
      "needs_background": "light"
     },
     "output_type": "display_data"
    }
   ],
   "source": [
    "a=np.array([-1,1])\n",
    "b=np.array([1,1])\n",
    "c=np.dot(a,b)\n",
    "print(c)\n",
    "Plotvec2(a, b)"
   ]
  },
  {
   "cell_type": "code",
   "execution_count": 99,
   "metadata": {},
   "outputs": [
    {
     "name": "stdout",
     "output_type": "stream",
     "text": [
      "0\n"
     ]
    },
    {
     "data": {
      "image/png": "[encoded data removed]",
      "text/plain": [
       "<Figure size 432x288 with 1 Axes>"
      ]
     },
     "metadata": {
      "needs_background": "light"
     },
     "output_type": "display_data"
    }
   ],
   "source": [
    "a=np.array([1,0])\n",
    "b=np.array([0,1])\n",
    "c=np.dot(a,b)\n",
    "print(c)\n",
    "Plotvec2(a, b)"
   ]
  },
  {
   "cell_type": "markdown",
   "metadata": {},
   "source": [
    "## 2d Numpy Arrays"
   ]
  },
  {
   "cell_type": "markdown",
   "metadata": {},
   "source": [
    "numpy can be used to generate  higher dimension arrays.\n"
   ]
  },
  {
   "cell_type": "code",
   "execution_count": 104,
   "metadata": {},
   "outputs": [
    {
     "name": "stdout",
     "output_type": "stream",
     "text": [
      "<class 'numpy.ndarray'> int32\n",
      "[[11 12 13]\n",
      " [21 22 23]\n",
      " [31 32 33]]\n"
     ]
    }
   ],
   "source": [
    "#considering a list wth 3 nested lists we can cast the list as follo\n",
    "a=[[11,12,13],[21,22,23],[31,32,33]]\n",
    "A=np.array(a)\n",
    "print(type(A),A.dtype)\n",
    "print(A)"
   ]
  },
  {
   "cell_type": "code",
   "execution_count": 108,
   "metadata": {},
   "outputs": [
    {
     "name": "stdout",
     "output_type": "stream",
     "text": [
      "2\n",
      "(3, 3)\n",
      "9 3\n"
     ]
    }
   ],
   "source": [
    "print(A.ndim)\n",
    "print(A.shape)\n",
    "print(A.size,len(A))"
   ]
  },
  {
   "cell_type": "code",
   "execution_count": 110,
   "metadata": {},
   "outputs": [
    {
     "name": "stdout",
     "output_type": "stream",
     "text": [
      "13 13\n"
     ]
    }
   ],
   "source": [
    "# the indezation can be done like this\n",
    "print(A[0][2],A[0,2])"
   ]
  },
  {
   "cell_type": "code",
   "execution_count": 128,
   "metadata": {},
   "outputs": [
    {
     "name": "stdout",
     "output_type": "stream",
     "text": [
      "[[11, 12, 13], [21, 22, 23], [31, 32, 33]] <class 'list'>\n"
     ]
    }
   ],
   "source": [
    "# the following  instruction can be used to  conver\n",
    "# froa  matrix to a vector or 1D array\n",
    "b=A.tolist()\n",
    "print(b,type(b))# converts to list type"
   ]
  },
  {
   "cell_type": "code",
   "execution_count": 121,
   "metadata": {},
   "outputs": [
    {
     "name": "stdout",
     "output_type": "stream",
     "text": [
      "[11 12 13 21 22 23 31 32 33] <class 'numpy.ndarray'> int32 1\n"
     ]
    }
   ],
   "source": [
    "C=A.ravel()\n",
    "print(C, type(C),C.dtype,C.ndim)"
   ]
  },
  {
   "cell_type": "code",
   "execution_count": 123,
   "metadata": {},
   "outputs": [
    {
     "name": "stdout",
     "output_type": "stream",
     "text": [
      "[11 12 13 21 22 23 31 32 33]\n"
     ]
    }
   ],
   "source": [
    "D=A.flatten()\n",
    "print(D)"
   ]
  },
  {
   "cell_type": "code",
   "execution_count": 136,
   "metadata": {},
   "outputs": [
    {
     "name": "stdout",
     "output_type": "stream",
     "text": [
      "[[11 12 13 21 22 23 31 32 33]] int32 <class 'numpy.ndarray'> 2\n"
     ]
    }
   ],
   "source": [
    "# also teh function .reshape can be used\n",
    "e=A.reshape(1,9)\n",
    "print(e,e.dtype,type(e),e.ndim)"
   ]
  },
  {
   "cell_type": "code",
   "execution_count": 145,
   "metadata": {},
   "outputs": [
    {
     "name": "stdout",
     "output_type": "stream",
     "text": [
      "<numpy.flatiter object at 0x0000027680B8C1C0> <class 'numpy.flatiter'>\n"
     ]
    }
   ],
   "source": [
    "f=A.flat\n",
    "print(f,type(f))"
   ]
  },
  {
   "cell_type": "markdown",
   "metadata": {},
   "source": [
    "- ravel()\n",
    "- flatten()\n",
    "- .tolist converts to a list type\n",
    "- .reshape\n"
   ]
  },
  {
   "cell_type": "code",
   "execution_count": 146,
   "metadata": {},
   "outputs": [
    {
     "data": {
      "text/plain": [
       "array([13, 23])"
      ]
     },
     "execution_count": 146,
     "metadata": {},
     "output_type": "execute_result"
    }
   ],
   "source": [
    "A[0:2,2]"
   ]
  },
  {
   "cell_type": "code",
   "execution_count": 171,
   "metadata": {},
   "outputs": [
    {
     "data": {
      "text/plain": [
       "array([[3, 1],\n",
       "       [1, 3]])"
      ]
     },
     "execution_count": 171,
     "metadata": {},
     "output_type": "execute_result"
    }
   ],
   "source": [
    "import numpy as np\n",
    "a=[[1,0],[0,1]]\n",
    "X=np.array(a)\n",
    "#Y=np.array([2,1],[1,2])\n",
    "b=[[2,1],[1,2]]\n",
    "Y=np.array(b)\n",
    "Z=X+Y\n",
    "Z"
   ]
  },
  {
   "cell_type": "code",
   "execution_count": 168,
   "metadata": {},
   "outputs": [
    {
     "name": "stdout",
     "output_type": "stream",
     "text": [
      "[[1 0]\n",
      " [0 1]]\n",
      "[[1 2 3]\n",
      " [1 2 3]\n",
      " [1 2 3]]\n"
     ]
    }
   ],
   "source": [
    "# definition of array 2D np.array([[1,2,3],[1,2,3],[1,2,3]])\n",
    "X=np.array([[1,0],[0,1]])\n",
    "print(X)\n",
    "cc=np.array([[1,2,3],[1,2,3],[1,2,3]])\n",
    "print(cc)"
   ]
  },
  {
   "cell_type": "code",
   "execution_count": 170,
   "metadata": {},
   "outputs": [
    {
     "data": {
      "text/plain": [
       "array([[2, 4, 6],\n",
       "       [2, 4, 6],\n",
       "       [2, 4, 6]])"
      ]
     },
     "execution_count": 170,
     "metadata": {},
     "output_type": "execute_result"
    }
   ],
   "source": [
    "zZ=cc*2\n",
    "zZ"
   ]
  },
  {
   "cell_type": "code",
   "execution_count": 172,
   "metadata": {},
   "outputs": [
    {
     "data": {
      "text/plain": [
       "array([[2, 0],\n",
       "       [0, 2]])"
      ]
     },
     "execution_count": 172,
     "metadata": {},
     "output_type": "execute_result"
    }
   ],
   "source": [
    "Z1=X*Y\n",
    "Z1"
   ]
  },
  {
   "cell_type": "code",
   "execution_count": 174,
   "metadata": {},
   "outputs": [
    {
     "data": {
      "text/plain": [
       "array([[2, 1],\n",
       "       [1, 2]])"
      ]
     },
     "execution_count": 174,
     "metadata": {},
     "output_type": "execute_result"
    }
   ],
   "source": [
    "Z2=np.dot(X,Y)\n",
    "Z2"
   ]
  },
  {
   "cell_type": "code",
   "execution_count": 190,
   "metadata": {},
   "outputs": [
    {
     "name": "stdout",
     "output_type": "stream",
     "text": [
      "[[ 0  1 -1]\n",
      " [ 1  0  1]]\n",
      "[[0 2]\n",
      " [0 2]]\n"
     ]
    }
   ],
   "source": [
    "A=np.array([[0,1,1],[1,0,1]])\n",
    "B=np.array([[1,1,-1],[1,1,1]])\n",
    "Bp=np.array([[1,1],[1,1],[-1,1]])\n",
    "ZZ=A*B\n",
    "print(ZZ)\n",
    "\n",
    "ZZ2=np.dot(A,B.T)\n",
    "ZZ3=np.dot(A,Bp)\n",
    "print(ZZ2)\n",
    "#In linear algebra, before we can multiply matrix \"A\"\n",
    "# by matrix \"B\" we must make sure\n",
    "#that the number of columns in matrix \"A\",\n",
    "#in this case 3, is equal to the number of"
   ]
  },
  {
   "cell_type": "code",
   "execution_count": 191,
   "metadata": {},
   "outputs": [
    {
     "data": {
      "text/plain": [
       "array([[0, 2],\n",
       "       [0, 2]])"
      ]
     },
     "execution_count": 191,
     "metadata": {},
     "output_type": "execute_result"
    }
   ],
   "source": [
    "ZZ2\n"
   ]
  },
  {
   "cell_type": "code",
   "execution_count": 192,
   "metadata": {},
   "outputs": [
    {
     "data": {
      "text/plain": [
       "array([[0, 2],\n",
       "       [0, 2]])"
      ]
     },
     "execution_count": 192,
     "metadata": {},
     "output_type": "execute_result"
    }
   ],
   "source": [
    "ZZ3"
   ]
  },
  {
   "cell_type": "code",
   "execution_count": 197,
   "metadata": {},
   "outputs": [
    {
     "name": "stdout",
     "output_type": "stream",
     "text": [
      "<class 'numpy.ndarray'> (3, 2) int32\n",
      "[21 22]\n"
     ]
    }
   ],
   "source": [
    "import numpy as np\n",
    "A=np.array([[11,12],[21,22],[31,32]])\n",
    "print(type(A),A.shape,A.dtype)\n",
    "print(A[1,:])"
   ]
  },
  {
   "cell_type": "code",
   "execution_count": 201,
   "metadata": {},
   "outputs": [
    {
     "data": {
      "text/plain": [
       "array([[11,  0],\n",
       "       [ 0, 22]])"
      ]
     },
     "execution_count": 201,
     "metadata": {},
     "output_type": "execute_result"
    }
   ],
   "source": [
    "A=np.array([[11,12],[21,22]])\n",
    "B=np.array([[1, 0],[0,1]])\n",
    "C=A*B\n",
    "C"
   ]
  },
  {
   "cell_type": "code",
   "execution_count": 202,
   "metadata": {},
   "outputs": [
    {
     "name": "stdout",
     "output_type": "stream",
     "text": [
      "[[11 12]\n",
      " [21 22]]\n",
      "[[11 12]\n",
      " [21 22]]\n"
     ]
    }
   ],
   "source": [
    "print(np.dot(A,B))\n",
    "print(np.dot(B,A))"
   ]
  },
  {
   "cell_type": "code",
   "execution_count": 204,
   "metadata": {},
   "outputs": [
    {
     "data": {
      "text/plain": [
       "array([[1, 2, 3],\n",
       "       [4, 5, 6]])"
      ]
     },
     "execution_count": 204,
     "metadata": {},
     "output_type": "execute_result"
    }
   ],
   "source": [
    "x = np.arange(1, 7).reshape(2, 3)\n",
    "x"
   ]
  },
  {
   "cell_type": "code",
   "execution_count": 205,
   "metadata": {},
   "outputs": [
    {
     "data": {
      "text/plain": [
       "array([[1, 4],\n",
       "       [2, 5],\n",
       "       [3, 6]])"
      ]
     },
     "execution_count": 205,
     "metadata": {},
     "output_type": "execute_result"
    }
   ],
   "source": [
    "x.T"
   ]
  }
 ],
 "metadata": {
  "kernelspec": {
   "display_name": "Python 3",
   "language": "python",
   "name": "python3"
  },
  "language_info": {
   "codemirror_mode": {
    "name": "ipython",
    "version": 3
   },
   "file_extension": ".py",
   "mimetype": "text/x-python",
   "name": "python",
   "nbconvert_exporter": "python",
   "pygments_lexer": "ipython3",
   "version": "3.6.7"
  }
 },
 "nbformat": 4,
 "nbformat_minor": 2
}
