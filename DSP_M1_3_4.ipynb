{
 "cells": [
  {
   "cell_type": "markdown",
   "metadata": {},
   "source": [
    "# Course Python basic data science Module 3\n",
    "## Python programming"
   ]
  },
  {
   "cell_type": "code",
   "execution_count": 235,
   "metadata": {},
   "outputs": [],
   "source": [
    "import numpy as np\n",
    "import matplotlib.pyplot as plt\n",
    "import scipy as scp"
   ]
  },
  {
   "cell_type": "markdown",
   "metadata": {},
   "source": [
    "- objetcives done\n",
    "- conditions and brancing done\n",
    "- loops done\n",
    "- functions done\n",
    "- objects and classes\n",
    "    "
   ]
  },
  {
   "cell_type": "markdown",
   "metadata": {},
   "source": [
    "## Conditionals and branchings"
   ]
  },
  {
   "cell_type": "code",
   "execution_count": 3,
   "metadata": {},
   "outputs": [
    {
     "name": "stdout",
     "output_type": "stream",
     "text": [
      "False\n"
     ]
    }
   ],
   "source": [
    "# comparison operations compare values or operand\n",
    "# based on a condition producing a boolean\n",
    "a=6\n",
    "# this created a boolean \n",
    "print(a==7)"
   ]
  },
  {
   "cell_type": "markdown",
   "metadata": {},
   "source": [
    "CONDITIONALS\n",
    "\n",
    "\n",
    " - (==)\n",
    " - (>)\n",
    " - (<)\n",
    " - (<=)\n",
    " - (>=)\n",
    " - (!=) inequality\n"
   ]
  },
  {
   "cell_type": "code",
   "execution_count": 4,
   "metadata": {},
   "outputs": [
    {
     "data": {
      "text/plain": [
       "True"
      ]
     },
     "execution_count": 4,
     "metadata": {},
     "output_type": "execute_result"
    }
   ],
   "source": [
    "a==6"
   ]
  },
  {
   "cell_type": "code",
   "execution_count": 17,
   "metadata": {},
   "outputs": [
    {
     "name": "stdout",
     "output_type": "stream",
     "text": [
      "1 is bigger than 5\n",
      "2 is bigger than 5\n",
      "3 is bigger than 5\n",
      "4 is bigger than 5\n",
      "5 is equal to 5\n",
      "6 is smaller than 5\n",
      "7 is smaller than 5\n",
      "8 is smaller than 5\n"
     ]
    }
   ],
   "source": [
    "#np.arange?\n",
    "# we create an array using a loop and conditionals\n",
    "\n",
    "a=np.arange(1,9,1)\n",
    "#a\n",
    "for i in a:\n",
    "    if i>5:\n",
    "        print(\"{} is smaller than 5\".format(i))\n",
    "    elif i==5:\n",
    "        print(\"{} is equal to 5\".format(i))\n",
    "    else:\n",
    "        print(\"{} is bigger than 5\".format(i))"
   ]
  },
  {
   "cell_type": "code",
   "execution_count": 28,
   "metadata": {},
   "outputs": [
    {
     "name": "stdout",
     "output_type": "stream",
     "text": [
      "[1.  1.5 2.  2.5 3.  3.5 4.  4.5 5.  5.5 6.  6.5 7.  7.5 8.  8.5]\n",
      "1.0 is bigger than 5\n",
      "1.5 is bigger than 5\n",
      "2.0 is bigger than 5\n",
      "2.5 is bigger than 5\n",
      "3.0 is bigger than 5\n",
      "3.5 is bigger than 5\n",
      "4.0 is bigger than 5\n",
      "4.5 is bigger than 5\n",
      "5.0 is equal to 5\n",
      "5.5 is smaller than 5\n",
      "6.0 is smaller than 5\n",
      "6.5 is smaller than 5\n",
      "7.0 is smaller than 5\n",
      "7.5 is smaller than 5\n",
      "8.0 is smaller than 5\n",
      "8.5 is smaller than 5\n"
     ]
    }
   ],
   "source": [
    "b=np.arange(1,9,.5)\n",
    "print(b)\n",
    "for i in b:\n",
    "    if i>5:\n",
    "        print(\"{} is smaller than 5\".format(i))\n",
    "    elif i==5:\n",
    "        print(\"{} is equal to 5\".format(i))\n",
    "    else:\n",
    "        print(\"{} is bigger than 5\".format(i))"
   ]
  },
  {
   "cell_type": "code",
   "execution_count": 22,
   "metadata": {},
   "outputs": [
    {
     "data": {
      "text/plain": [
       "array([False, False, False, False,  True,  True,  True,  True])"
      ]
     },
     "execution_count": 22,
     "metadata": {},
     "output_type": "execute_result"
    }
   ],
   "source": [
    "#some other examples \n",
    "a>=5"
   ]
  },
  {
   "cell_type": "code",
   "execution_count": 23,
   "metadata": {},
   "outputs": [
    {
     "data": {
      "text/plain": [
       "array([ True,  True,  True,  True,  True, False, False, False])"
      ]
     },
     "execution_count": 23,
     "metadata": {},
     "output_type": "execute_result"
    }
   ],
   "source": [
    "a<6"
   ]
  },
  {
   "cell_type": "code",
   "execution_count": null,
   "metadata": {},
   "outputs": [],
   "source": [
    "# anotehr example using for"
   ]
  },
  {
   "cell_type": "code",
   "execution_count": 34,
   "metadata": {},
   "outputs": [
    {
     "name": "stdout",
     "output_type": "stream",
     "text": [
      "[1.0, 1.5, 2.0, 2.5, 3.0, 3.5, 4.0, 4.5]\n",
      "[5.0]\n",
      "[5.5, 6.0, 6.5, 7.0, 7.5, 8.0, 8.5]\n"
     ]
    }
   ],
   "source": [
    "b=np.arange(1,9,.5)\n",
    "al=[]\n",
    "bl=[]\n",
    "cl=[]\n",
    "#print(b)\n",
    "for i in b:\n",
    "    if i<5:\n",
    "        #print(\"{} is smaller than 5\".format(i))\n",
    "        al.append(i)\n",
    "    elif i==5:\n",
    "        #print(\"{} is equal to 5\".format(i))\n",
    "        bl.append(i)\n",
    "    else:\n",
    "        #print(\"{} is bigger than 5\".format(i))\n",
    "        cl.append(i)\n",
    "print(al)\n",
    "print(bl)\n",
    "print(cl)"
   ]
  },
  {
   "cell_type": "code",
   "execution_count": 40,
   "metadata": {},
   "outputs": [
    {
     "name": "stdout",
     "output_type": "stream",
     "text": [
      "[ True  True  True  True  True False  True  True]\n",
      "[1 2 3 4 5 6 7 8]\n"
     ]
    }
   ],
   "source": [
    "# inequality says if a not 6 then true,\n",
    "# otherwise false (if ==6  False)\n",
    "print(a!=6)\n",
    "print(a)\n"
   ]
  },
  {
   "cell_type": "code",
   "execution_count": 41,
   "metadata": {},
   "outputs": [
    {
     "data": {
      "text/plain": [
       "False"
      ]
     },
     "execution_count": 41,
     "metadata": {},
     "output_type": "execute_result"
    }
   ],
   "source": [
    "# strings can be used also as comparisson\n",
    "\"ACDC\"==\"Michael Jackson\""
   ]
  },
  {
   "cell_type": "markdown",
   "metadata": {},
   "source": [
    "## Branching"
   ]
  },
  {
   "cell_type": "code",
   "execution_count": 42,
   "metadata": {},
   "outputs": [],
   "source": [
    "import numpy.random as random"
   ]
  },
  {
   "cell_type": "code",
   "execution_count": 71,
   "metadata": {},
   "outputs": [],
   "source": [
    "a=random.randint(15,30,10)"
   ]
  },
  {
   "cell_type": "code",
   "execution_count": 72,
   "metadata": {},
   "outputs": [
    {
     "name": "stdout",
     "output_type": "stream",
     "text": [
      "Can enter the  concert\n",
      "can not enter\n",
      "Can enter the  concert\n",
      "can not enter\n",
      "can not enter\n",
      "Can enter the  concert\n",
      "can not enter\n",
      "Can enter the  concert\n",
      "can not enter\n",
      "Can enter the  concert\n",
      "can not enter\n",
      "Can enter the  concert\n",
      "can not enter\n",
      "Can enter the  concert\n",
      "can not enter\n",
      "Can enter the  concert\n",
      "can not enter\n",
      "Can enter the  concert\n",
      "can not enter\n"
     ]
    }
   ],
   "source": [
    "for i in a:\n",
    "    if i>18:\n",
    "        print(\"Can enter the  concert\")\n",
    "    print(\"can not enter\")\n",
    "    "
   ]
  },
  {
   "cell_type": "code",
   "execution_count": 67,
   "metadata": {},
   "outputs": [],
   "source": [
    ".any??"
   ]
  },
  {
   "cell_type": "code",
   "execution_count": 66,
   "metadata": {},
   "outputs": [],
   "source": [
    ".all??\n"
   ]
  },
  {
   "cell_type": "code",
   "execution_count": 87,
   "metadata": {},
   "outputs": [
    {
     "name": "stdout",
     "output_type": "stream",
     "text": [
      "move on\n"
     ]
    }
   ],
   "source": [
    "\n",
    "age=17\n",
    "if age > 18:\n",
    "    print(\"Can enter the  concert\")\n",
    "print(\"move on\")"
   ]
  },
  {
   "cell_type": "code",
   "execution_count": 85,
   "metadata": {},
   "outputs": [
    {
     "name": "stdout",
     "output_type": "stream",
     "text": [
      "go to see meat loaf\n",
      "move on\n"
     ]
    }
   ],
   "source": [
    "# dummy examplea a.any() a.all()\n",
    "# if and else, and elif\n",
    "\n",
    "age=17\n",
    "if age >= 18:\n",
    "    print(\"Can enter the  concert\")\n",
    "else:\n",
    "    print(\"go to see meat loaf\")\n",
    "    \n",
    "print(\"move on\")"
   ]
  },
  {
   "cell_type": "code",
   "execution_count": 89,
   "metadata": {},
   "outputs": [
    {
     "name": "stdout",
     "output_type": "stream",
     "text": [
      "to to pink floyd\n",
      "move on\n"
     ]
    }
   ],
   "source": [
    "#elif\n",
    "#The elif statement, short for “else if,” \n",
    "#allows us to check additional conditions,\n",
    "#if the proceeding condition is false.\n",
    "#If the condition is true, the alternate \n",
    "#expression will run\n",
    "\n",
    "\n",
    "age=18\n",
    "if age > 18:\n",
    "    print(\"Can enter the  concert\")\n",
    "elif age==18:\n",
    "    print(\"to to pink floyd\")    \n",
    "else:\n",
    "    print(\"go to see meat loaf\")\n",
    "    \n",
    "print(\"move on\")\n",
    "\n",
    "\n"
   ]
  },
  {
   "cell_type": "code",
   "execution_count": 95,
   "metadata": {},
   "outputs": [
    {
     "name": "stdout",
     "output_type": "stream",
     "text": [
      "[20 18 23 22 23 23 21 24 21 24 17 17 24 20 22]\n",
      "Can enter the  concert\n",
      "Go to pink floyd\n",
      "Can enter the  concert\n",
      "Can enter the  concert\n",
      "Can enter the  concert\n",
      "Can enter the  concert\n",
      "Can enter the  concert\n",
      "Can enter the  concert\n",
      "Can enter the  concert\n",
      "Can enter the  concert\n",
      "Go to see meat loaf\n",
      "Go to see meat loaf\n",
      "Can enter the  concert\n",
      "Can enter the  concert\n",
      "Can enter the  concert\n"
     ]
    }
   ],
   "source": [
    "# how to use loop, conditional and fucntions and numpy\n",
    "AGE=random.randint(16,25,15)\n",
    "print(AGE)\n",
    "def age_concert(AGES):\n",
    "    for i in AGES:\n",
    "        if i > 18:\n",
    "            print(\"Can enter the  concert\")\n",
    "        elif i==18:\n",
    "            print(\"Go to pink floyd\")    \n",
    "        else:\n",
    "            print(\"Go to see meat loaf\")\n",
    "    return\n",
    "age_concert(AGE)\n",
    "\n",
    "        "
   ]
  },
  {
   "cell_type": "markdown",
   "metadata": {},
   "source": [
    "## Logic OPERATORS\n",
    "\n",
    "Logic operations take Boolean values and produce different Boolean values (True of False). first is the not (!=)."
   ]
  },
  {
   "cell_type": "markdown",
   "metadata": {},
   "source": [
    "## NOT \n",
    "!= input is true autput is false and in the other way around\n",
    "\n",
    "## OR\n",
    "or takes two values  and produecs a boolean, IF ONE IS TRUE THEN THE RESULT IS TRUE\n",
    "\n",
    "| A | B | OUTPUT |\n",
    "| --- | --- | --- |\n",
    "| FALSE | FALSE | FALSE |\n",
    "| FALSE | TRUE | TRUE |\n",
    "| TRUE | FALSE | TRUE |\n",
    "| TRUE| TRUE | TRUE |\n",
    "\n",
    "## AND\n",
    "\n",
    "And takes values A and B\n",
    "\n",
    "| A | B | OUTPUT |\n",
    "| --- | --- | --- |\n",
    "| FALSE | FALSE | FALSE |\n",
    "| FALSE | TRUE | FALSE |\n",
    "| TRUE | FALSE | FALSE |\n",
    "| TRUE| TRUE | TRUE |\n",
    "\n",
    "\n"
   ]
  },
  {
   "cell_type": "code",
   "execution_count": 100,
   "metadata": {},
   "outputs": [
    {
     "name": "stdout",
     "output_type": "stream",
     "text": [
      "Album was made in 50s, 60s 70s or 90s\n"
     ]
    }
   ],
   "source": [
    "#example 1 or\n",
    "albumyear=1990\n",
    "\n",
    "if (albumyear<1980) or (albumyear>1989):\n",
    "    print(\"Album was made in 50s, 60s 70s or 90s\")\n",
    "else:\n",
    "    print(\"Album was made in 80\")"
   ]
  },
  {
   "cell_type": "code",
   "execution_count": 104,
   "metadata": {},
   "outputs": [
    {
     "name": "stdout",
     "output_type": "stream",
     "text": [
      "Album was made in other decade\n"
     ]
    }
   ],
   "source": [
    "albumyear2=1983\n",
    "\n",
    "if albumyear2>1979 and albumyear2>1990:\n",
    "    print(\"ALbum was made in the 80s \")\n",
    "else:\n",
    "    print(\"Album was made in other decade\")\n"
   ]
  },
  {
   "cell_type": "code",
   "execution_count": 105,
   "metadata": {},
   "outputs": [
    {
     "name": "stdout",
     "output_type": "stream",
     "text": [
      "album was not released in 2000\n"
     ]
    }
   ],
   "source": [
    "# NOT excercise\n",
    "albumyear3=1989\n",
    "if albumyear3!=2000:\n",
    "    print(\"album was not released in 2000\")"
   ]
  },
  {
   "cell_type": "code",
   "execution_count": 108,
   "metadata": {},
   "outputs": [
    {
     "name": "stdout",
     "output_type": "stream",
     "text": [
      "False\n"
     ]
    }
   ],
   "source": [
    "#some examples\n",
    "i=120\n",
    "print(i<100)"
   ]
  },
  {
   "cell_type": "code",
   "execution_count": 111,
   "metadata": {},
   "outputs": [
    {
     "name": "stdout",
     "output_type": "stream",
     "text": [
      "This is a\n"
     ]
    }
   ],
   "source": [
    "x=\"a\"\n",
    "if x=='a':\n",
    "    print(\"This is a\")\n",
    "else:\n",
    "    print(\"this is not a\")"
   ]
  },
  {
   "cell_type": "code",
   "execution_count": 115,
   "metadata": {},
   "outputs": [
    {
     "name": "stdout",
     "output_type": "stream",
     "text": [
      "False\n",
      "True\n"
     ]
    }
   ],
   "source": [
    "# in this case i is 120 and ina normal boolean \n",
    "# i=120  is  true, bit not chenges to false\n",
    "i=120\n",
    "print(i!=120)\n",
    "# on the other hand i is 120 and compared to \n",
    "# 12 is false but changes into  True\n",
    "print(i!=12)"
   ]
  },
  {
   "cell_type": "markdown",
   "metadata": {},
   "source": [
    "Review of comparison operations compare some value or operand and, based on a condition, they produce a Boolean. When comparing two values you can use these operators:\n",
    "\n",
    "<ul>\n",
    "    <li>equal: <b>==</b></li>\n",
    "    <li>not equal: <b>!=</b></li>\n",
    "    <li>greater than: <b>></b></li>\n",
    "    <li>less than: <b>&lt;</b></li>\n",
    "    <li>greater than or equal to: <b>>=</b></li>\n",
    "    <li>less than or equal to: <b>&lt;=</b></li>\n",
    "</ul>"
   ]
  },
  {
   "cell_type": "code",
   "execution_count": 134,
   "metadata": {},
   "outputs": [
    {
     "name": "stdout",
     "output_type": "stream",
     "text": [
      "False\n",
      "True\n",
      "False\n",
      "True\n",
      "first case: \n",
      "\n",
      "True\n",
      "second case: \n",
      "\n",
      "False\n",
      "True\n",
      "True\n"
     ]
    }
   ],
   "source": [
    "# small examples\n",
    "a=5\n",
    "print(a==6)\n",
    "ii=6\n",
    "print(ii>5)\n",
    "j=2\n",
    "print(j>5)\n",
    "i=2\n",
    "print(i!=6)\n",
    "print(\"first case: \\n\")\n",
    "print(\"ACDC\"!=\"MJ\")\n",
    "print(\"second case: \\n\")\n",
    "print(\"ACDC\"==\"MJ\")\n",
    "#ascii code for ! is 21 while for + is 43 therefore,+ is larger than !\n",
    "# for A is 101 and for B is 102\n",
    "print('B'>'A')\n",
    "print('BA'>'AB')"
   ]
  },
  {
   "cell_type": "code",
   "execution_count": 135,
   "metadata": {},
   "outputs": [
    {
     "name": "stdout",
     "output_type": "stream",
     "text": [
      "Album year is not 1984\n"
     ]
    }
   ],
   "source": [
    "# Condition statement example\n",
    "\n",
    "album_year = 1983\n",
    "\n",
    "if not (album_year == '1984'):\n",
    "    print (\"Album year is not 1984\")"
   ]
  },
  {
   "cell_type": "code",
   "execution_count": 136,
   "metadata": {},
   "outputs": [
    {
     "name": "stdout",
     "output_type": "stream",
     "text": [
      "This album is Amazing!\n"
     ]
    }
   ],
   "source": [
    "rating = 8.5\n",
    "if rating > 8:\n",
    "    print (\"This album is Amazing!\")"
   ]
  },
  {
   "cell_type": "code",
   "execution_count": 138,
   "metadata": {},
   "outputs": [
    {
     "name": "stdout",
     "output_type": "stream",
     "text": [
      "this album is ok\n"
     ]
    }
   ],
   "source": [
    "rating = 8\n",
    "if rating > 8:\n",
    "    print (\"this album is amazing\")\n",
    "else:\n",
    "    print (\"this album is ok\")"
   ]
  },
  {
   "cell_type": "markdown",
   "metadata": {},
   "source": [
    "## LOOPS"
   ]
  },
  {
   "cell_type": "code",
   "execution_count": 142,
   "metadata": {},
   "outputs": [
    {
     "name": "stdout",
     "output_type": "stream",
     "text": [
      "range(10, 15)\n",
      "10\n",
      "11\n",
      "12\n",
      "13\n",
      "14\n"
     ]
    }
   ],
   "source": [
    "# rage fucntion in lists\n",
    "# outputs an ordered sequence as a list i\n",
    "i=range(10,15)\n",
    "print(i)\n",
    "#if the input is a positive integer, \n",
    "# the utput is a sequence\n",
    "for j in i:\n",
    "    print(j)"
   ]
  },
  {
   "cell_type": "code",
   "execution_count": 155,
   "metadata": {},
   "outputs": [
    {
     "name": "stdout",
     "output_type": "stream",
     "text": [
      "0\n",
      "1\n",
      "2\n",
      "3\n",
      "4\n",
      "['WHITE', 'WHITE', 'WHITE', 'WHITE', 'WHITE']\n"
     ]
    }
   ],
   "source": [
    "#lopps oerfom a task over and over}\n",
    "Squares=[\"red\",\"yellow\",\"green\",\"purple\",\"blue\"]\n",
    "#other form\n",
    "#for sq in range(0,5):\n",
    "for sq in range(len(Squares)):\n",
    "    print(sq)\n",
    "    Squares[sq]=\"WHITE\"\n",
    "print(Squares)\n",
    "    "
   ]
  },
  {
   "cell_type": "code",
   "execution_count": 158,
   "metadata": {},
   "outputs": [
    {
     "name": "stdout",
     "output_type": "stream",
     "text": [
      "red\n",
      "yellow\n",
      "green\n"
     ]
    }
   ],
   "source": [
    "# we cal iterate through a list or tuple in python\n",
    "# we do not need indexes\n",
    "sqs=[\"red\",\"yellow\",\"green\"]\n",
    "for s in sqs:\n",
    "    print(s)"
   ]
  },
  {
   "cell_type": "code",
   "execution_count": 160,
   "metadata": {},
   "outputs": [
    {
     "name": "stdout",
     "output_type": "stream",
     "text": [
      "0 red\n",
      "1 yellow\n",
      "2 green\n"
     ]
    }
   ],
   "source": [
    "# an useful fucntion to iterate data is enumerate\n",
    "# k is index\n",
    "# j is value\n",
    "for i,squar in enumerate(sqs):\n",
    "    print(i,squar)"
   ]
  },
  {
   "cell_type": "markdown",
   "metadata": {},
   "source": [
    "### While loops\n",
    "“While loops” are similar to “for loops”, but instead of executing a statement a set\n",
    "number of times, a while loop will only run if a condition is met."
   ]
  },
  {
   "cell_type": "code",
   "execution_count": 167,
   "metadata": {},
   "outputs": [
    {
     "name": "stdout",
     "output_type": "stream",
     "text": [
      "2 ['orange', 'orange']\n"
     ]
    }
   ],
   "source": [
    "# The “while” statement will repeatedly execute \n",
    "#the statements within the indent until\n",
    "#the condition inside the bracket is false. \n",
    "#We append the value of the first element of\n",
    "#the list squares to the list \"New Squares.\" \n",
    "#We increase the value of “i” by one.\n",
    "squares=[\"orange\", \"orange\", \"purple\", \"orange\",\"blue\"]\n",
    "#empty list\n",
    "Newsquares=[]\n",
    "i=0\n",
    "while squares[i]==\"orange\":\n",
    "    Newsquares.append(squares[i])\n",
    "    #i=i+1\n",
    "    i+=1\n",
    "print(i,Newsquares)   "
   ]
  },
  {
   "cell_type": "code",
   "execution_count": 169,
   "metadata": {},
   "outputs": [
    {
     "name": "stdout",
     "output_type": "stream",
     "text": [
      "1\n",
      "2\n",
      "3\n",
      "4\n",
      "5\n"
     ]
    }
   ],
   "source": [
    "#ex1 print the values of A\n",
    "A=[1,2,3,4,5]\n",
    "for i in A:\n",
    "    print(i)"
   ]
  },
  {
   "cell_type": "code",
   "execution_count": 171,
   "metadata": {},
   "outputs": [
    {
     "name": "stdout",
     "output_type": "stream",
     "text": [
      "1\n",
      "2\n",
      "3\n",
      "4\n",
      "5\n",
      "6\n",
      "7\n",
      "8\n",
      "9\n",
      "10\n"
     ]
    }
   ],
   "source": [
    "x=11\n",
    "y=1\n",
    "while(y< x):\n",
    "    print(y)\n",
    "    y+=1"
   ]
  },
  {
   "cell_type": "code",
   "execution_count": 172,
   "metadata": {},
   "outputs": [
    {
     "name": "stdout",
     "output_type": "stream",
     "text": [
      "1982\n",
      "1980\n",
      "1973\n"
     ]
    }
   ],
   "source": [
    "# For loop example to print put the values of the  list\n",
    "\n",
    "dates = [1982,1980,1973]\n",
    "N = len(dates)\n",
    "\n",
    "for i in range(N):\n",
    "    print(dates[i]) "
   ]
  },
  {
   "cell_type": "code",
   "execution_count": 173,
   "metadata": {},
   "outputs": [
    {
     "name": "stdout",
     "output_type": "stream",
     "text": [
      "0\n",
      "1\n",
      "2\n",
      "3\n",
      "4\n",
      "5\n",
      "6\n",
      "7\n"
     ]
    }
   ],
   "source": [
    "# Example of for loop\n",
    "\n",
    "for i in range(0, 8):\n",
    "    print(i)"
   ]
  },
  {
   "cell_type": "code",
   "execution_count": 175,
   "metadata": {},
   "outputs": [
    {
     "name": "stdout",
     "output_type": "stream",
     "text": [
      "1982\n",
      "1980\n",
      "1973\n"
     ]
    }
   ],
   "source": [
    "# Exmaple of for loop, loop through list\n",
    "for year in dates:  \n",
    "    print(year)  "
   ]
  },
  {
   "cell_type": "code",
   "execution_count": 176,
   "metadata": {},
   "outputs": [
    {
     "name": "stdout",
     "output_type": "stream",
     "text": [
      "Before square  0 is red\n",
      "After square  0 is weigth\n",
      "Before square  1 is yellow\n",
      "After square  1 is weigth\n",
      "Before square  2 is green\n",
      "After square  2 is weigth\n",
      "Before square  3 is purple\n",
      "After square  3 is weigth\n",
      "Before square  4 is blue\n",
      "After square  4 is weigth\n"
     ]
    }
   ],
   "source": [
    "# Use for loop to change the elements in list\n",
    "\n",
    "squares = ['red', 'yellow', 'green', 'purple', 'blue']\n",
    "\n",
    "for i in range(len(squares)):\n",
    "    print(\"Before square \", i, 'is',  squares[i])\n",
    "    squares[i]=\"weigth\"\n",
    "    print(\"After square \", i, 'is',  squares[i])"
   ]
  },
  {
   "cell_type": "code",
   "execution_count": 177,
   "metadata": {},
   "outputs": [
    {
     "name": "stdout",
     "output_type": "stream",
     "text": [
      "0 red\n",
      "1 yellow\n",
      "2 green\n",
      "3 purple\n",
      "4 blue\n"
     ]
    }
   ],
   "source": [
    "squares=['red', 'yellow', 'green', 'purple', 'blue']\n",
    "\n",
    "for i, square in enumerate(squares):\n",
    "    print(i, square)"
   ]
  },
  {
   "cell_type": "code",
   "execution_count": 178,
   "metadata": {},
   "outputs": [
    {
     "name": "stdout",
     "output_type": "stream",
     "text": [
      "1982\n",
      "1980\n",
      "1973\n",
      "It took  3 repetitions to get out of loop.\n"
     ]
    }
   ],
   "source": [
    "# While Loop Example\n",
    "\n",
    "dates = [1982, 1980, 1973, 2000]\n",
    "\n",
    "i = 0\n",
    "year = 0\n",
    "\n",
    "while(year != 1973):\n",
    "    year = dates[i]\n",
    "    i = i + 1\n",
    "    print(year)\n",
    "\n",
    "print(\"It took \", i ,\"repetitions to get out of loop.\")"
   ]
  },
  {
   "cell_type": "code",
   "execution_count": 180,
   "metadata": {},
   "outputs": [
    {
     "name": "stdout",
     "output_type": "stream",
     "text": [
      "-5\n",
      "-4\n",
      "-3\n",
      "-2\n",
      "-1\n",
      "0\n",
      "1\n",
      "2\n",
      "3\n",
      "4\n",
      "5\n"
     ]
    }
   ],
   "source": [
    "#Write a for loop the prints out all \n",
    "#the element between -5 and 5 using \n",
    "#the range function.\n",
    "for i in range(-5,6):\n",
    "    print(i)"
   ]
  },
  {
   "cell_type": "code",
   "execution_count": 182,
   "metadata": {},
   "outputs": [
    {
     "name": "stdout",
     "output_type": "stream",
     "text": [
      "rock\n",
      "R&B\n",
      "Soundtrack\n",
      "R&B\n",
      "soul\n",
      "pop\n"
     ]
    }
   ],
   "source": [
    "#Print the elements of the following list: \n",
    "#Genres=[ 'rock', 'R&B', 'Soundtrack', 'R&B', 'soul', 'pop']\n",
    "#Make sure you follow Python conventions.\n",
    "Genres=[ 'rock', 'R&B', 'Soundtrack', 'R&B', 'soul', 'pop']\n",
    "for i in Genres:\n",
    "    print(i)"
   ]
  },
  {
   "cell_type": "code",
   "execution_count": 186,
   "metadata": {},
   "outputs": [
    {
     "name": "stdout",
     "output_type": "stream",
     "text": [
      "10\n",
      "9.5\n",
      "10\n",
      "8\n",
      "7.5\n"
     ]
    }
   ],
   "source": [
    "#Write a while loop to display the values \n",
    "#of the Rating of an album playlist stored \n",
    "#in the list PlayListRatings. \n",
    "#If the score is less than 6, exit the loop. \n",
    "#The list PlayListRatings is given by: \n",
    "#PlayListRatings = [10, 9.5, 10, 8, 7.5, 5, 10, 10]\n",
    "#option 1\n",
    "PlayListRatings = [10, 9.5, 10, 8, 7.5, 5, 10, 10]\n",
    "j=1\n",
    "Rating=PlayListRatings[0]\n",
    "while Rating>=6:\n",
    "    print(Rating)\n",
    "    Rating=PlayListRatings[j]\n",
    "    j=j+1"
   ]
  },
  {
   "cell_type": "code",
   "execution_count": 187,
   "metadata": {},
   "outputs": [
    {
     "name": "stdout",
     "output_type": "stream",
     "text": [
      "10\n",
      "9.5\n",
      "10\n",
      "8\n",
      "7.5\n",
      "[10, 9.5, 10, 8, 7.5]\n"
     ]
    }
   ],
   "source": [
    "#option 2\n",
    "PlayListRatings = [10, 9.5, 10, 8, 7.5, 5, 10, 10]\n",
    "j=0\n",
    "Rating=[]\n",
    "#Rating=PlayListRatings[0]\n",
    "while PlayListRatings[j]>=6:\n",
    "    print(PlayListRatings[j])\n",
    "    Rating.append(PlayListRatings[j])\n",
    "    j=j+1\n",
    "print(Rating)"
   ]
  },
  {
   "cell_type": "code",
   "execution_count": 190,
   "metadata": {},
   "outputs": [
    {
     "name": "stdout",
     "output_type": "stream",
     "text": [
      "['orange', 'orange']\n"
     ]
    }
   ],
   "source": [
    "# Write your code below and press Shift+Enter to execute\n",
    "\n",
    "squares = ['orange', 'orange', 'purple', 'blue ', 'orange']\n",
    "new_squares = []\n",
    "k=0\n",
    "while squares[k]==\"orange\":\n",
    "    new_squares.append(squares[k])\n",
    "    k=k+1\n",
    "print(new_squares)"
   ]
  },
  {
   "cell_type": "markdown",
   "metadata": {},
   "source": [
    "## FUCNTIONS"
   ]
  },
  {
   "cell_type": "markdown",
   "metadata": {},
   "source": [
    "functions take some input and produce an output or change, in other words it is piede of code that can be used.\n",
    "You can implement your own function, but in many cases, you use other people’s functions.\n",
    "In this case, you just have to know how the function works and in some cases how to import\n",
    "the functions. We can run the code using some input and get an output. If we define a function to do the task we\n",
    "just have to call the function.  Now we can just call the function; our code\n",
    "is much shorter. The code performs the same task. $\\textbf{Python has built in functions}$"
   ]
  },
  {
   "cell_type": "code",
   "execution_count": 211,
   "metadata": {},
   "outputs": [
    {
     "name": "stdout",
     "output_type": "stream",
     "text": [
      "8\n"
     ]
    }
   ],
   "source": [
    "def funcion1(a):\n",
    "    \"\"\"Documentation of fucntions\"\"\"\n",
    "    b=a+1\n",
    "    return b\n",
    "b=funcion1(7)\n",
    "print(b)"
   ]
  },
  {
   "cell_type": "markdown",
   "metadata": {},
   "source": [
    "- Len gives the length of a list or string or type collection, dictionaries or sets\n",
    "- sum gives the sum of a tuple or list\n",
    "- sorted and sort, sort is a list method, in this case the original stays teh same and a new list is created.\n",
    "- \n",
    " "
   ]
  },
  {
   "cell_type": "code",
   "execution_count": 210,
   "metadata": {},
   "outputs": [
    {
     "name": "stdout",
     "output_type": "stream",
     "text": [
      "5\n",
      "15\n",
      "[2, 2.3, 5.2, 6.5, 7.5, 8.5, 9.1, 10, 10.5]\n",
      "no sorted [10, 2, 10.5, 6.5, 2.3, 8.5, 7.5, 9.1, 5.2]\n",
      "sorted [2, 2.3, 5.2, 6.5, 7.5, 8.5, 9.1, 10, 10.5]\n"
     ]
    }
   ],
   "source": [
    "L=len(random.randint(1,5,5))\n",
    "print(L)\n",
    "S=sum(random.randint(1,5,5))\n",
    "print(S)\n",
    "#Consider the list album ratings. We can apply the function sorted \n",
    "# to the list album ratings and get a new list \n",
    "#sorted album rating. The result is a new sorted\n",
    "#list. If we look at the list album ratings, \n",
    "#nothing has changed.\n",
    "#Generally, functions take an input, \n",
    "# producing a new output\n",
    "album=[10,2,10.5,6.5,2.3,8.5,7.5,9.1,5.2]\n",
    "albumSorted=sorted(album)\n",
    "print(albumSorted)\n",
    "# in the case of sort no new list is created\n",
    "print(\"no sorted\",album)\n",
    "album.sort()\n",
    "print(\"sorted\",album)"
   ]
  },
  {
   "cell_type": "code",
   "execution_count": 214,
   "metadata": {},
   "outputs": [
    {
     "name": "stdout",
     "output_type": "stream",
     "text": [
      "Help on function funcion1 in module __main__:\n",
      "\n",
      "funcion1(a)\n",
      "    Documentation of fucntions\n",
      "\n"
     ]
    }
   ],
   "source": [
    "# to check teh documentation of your fucntions\n",
    "help(funcion1)"
   ]
  },
  {
   "cell_type": "code",
   "execution_count": 217,
   "metadata": {},
   "outputs": [
    {
     "data": {
      "text/plain": [
       "'MICKMICK'"
      ]
     },
     "execution_count": 217,
     "metadata": {},
     "output_type": "execute_result"
    }
   ],
   "source": [
    "# a function can contain multiple inputs and outputs\n",
    "def mult2(a,b):\n",
    "    c=a*b\n",
    "    return c\n",
    "c=mult2(2,\"MICK\")\n",
    "c"
   ]
  },
  {
   "cell_type": "code",
   "execution_count": 219,
   "metadata": {},
   "outputs": [
    {
     "name": "stdout",
     "output_type": "stream",
     "text": [
      "Mickael JACKson\n"
     ]
    }
   ],
   "source": [
    "def MK():\n",
    "    print(\"Mickael JACKson\")\n",
    "MK()"
   ]
  },
  {
   "cell_type": "code",
   "execution_count": 222,
   "metadata": {},
   "outputs": [
    {
     "name": "stdout",
     "output_type": "stream",
     "text": [
      "None\n",
      "None\n"
     ]
    }
   ],
   "source": [
    "#Python doesn’t allow a function to have an empty \n",
    "#body, so we can use the keyword pass,which \n",
    "#doesn’t do anything, but satisfies the \n",
    "#requirement of a non-empty body.\n",
    "#If we call the function and print it out,\n",
    "#the function returns a None.\n",
    "def NoWork():\n",
    "    pass\n",
    "print(NoWork())\n",
    "# if the return statement is not set up\n",
    "# python gives back a None value\n",
    "def NoWork2():\n",
    "    return None\n",
    "print(NoWork2())"
   ]
  },
  {
   "cell_type": "code",
   "execution_count": 225,
   "metadata": {},
   "outputs": [
    {
     "name": "stdout",
     "output_type": "stream",
     "text": [
      "10 plus is equals to 11\n"
     ]
    }
   ],
   "source": [
    "def funcion2(a):\n",
    "    b=a+1\n",
    "    print(a,\"plus is equals to {}\".format(b))\n",
    "    return b\n",
    "\n",
    "b=funcion2(10)"
   ]
  },
  {
   "cell_type": "markdown",
   "metadata": {},
   "source": [
    "as showed before we can use  loops in fucntions and functions in loops\n"
   ]
  },
  {
   "cell_type": "code",
   "execution_count": 233,
   "metadata": {},
   "outputs": [
    {
     "name": "stdout",
     "output_type": "stream",
     "text": [
      "album 0 rating is 10.0\n",
      "album 1 rating is 8.5\n",
      "album 2 rating is 9.5\n"
     ]
    }
   ],
   "source": [
    "#loop in fucntion\n",
    "def printstuff(stuff):\n",
    "    for i,s in enumerate(stuff):\n",
    "        \"\"\"Where the output of teh first index \n",
    "        is the position and teh second the value\n",
    "        \n",
    "        \"\"\"\n",
    "        print(\"album\",i,\"rating is\",s)\n",
    "albumrat=[10.0,8.5,9.5]\n",
    "printstuff(albumrat)\n",
    "printstuff??"
   ]
  },
  {
   "cell_type": "markdown",
   "metadata": {},
   "source": [
    "#### f"
   ]
  },
  {
   "cell_type": "markdown",
   "metadata": {},
   "source": [
    "#### Collecting arguments\n",
    "VAriadic parameters allow to input a variable number of elements."
   ]
  },
  {
   "cell_type": "code",
   "execution_count": 236,
   "metadata": {},
   "outputs": [],
   "source": [
    "#Consider the following function; \n",
    "#the function has an asterisk on \n",
    "#the parameter names.\n",
    "#When we call the function, \n",
    "#three parameters are packed \n",
    "#into the tuple names.\n",
    "#We then iterate through the loop; \n",
    "#the values are printed out accordingly.\n",
    "def ArtName(*names):\n",
    "    for name in names:\n",
    "        print(name)"
   ]
  },
  {
   "cell_type": "code",
   "execution_count": 237,
   "metadata": {},
   "outputs": [
    {
     "name": "stdout",
     "output_type": "stream",
     "text": [
      "MJ\n",
      "ACDC\n",
      "PF\n"
     ]
    }
   ],
   "source": [
    "ArtName(\"MJ\",\"ACDC\",\"PF\")"
   ]
  },
  {
   "cell_type": "markdown",
   "metadata": {},
   "source": [
    "The scope of a variabla is the part of the program where that variable is accesible.\n",
    "VAriables defined outside of any function are said to be within the global scope, or accessed anywhere after they are defined outside of any fucntion\n"
   ]
  },
  {
   "cell_type": "code",
   "execution_count": 239,
   "metadata": {},
   "outputs": [
    {
     "name": "stdout",
     "output_type": "stream",
     "text": [
      "ACDC\n"
     ]
    }
   ],
   "source": [
    "#global scope\n",
    "#Here we have a function that adds the string\n",
    "#DC to the parameter x.\n",
    "#When we reach the part where the value of\n",
    "#x is set to AC, this is within the global scope,\n",
    "#meaning x is accessible anywhere after\n",
    "#it is defined. \n",
    "#A variable defined in the global scope \n",
    "#is called a global variable.\n",
    "def ADDDC(x):\n",
    "    x=x+\"DC\"\n",
    "    print(x)\n",
    "    return x\n",
    "\n",
    "x=\"AC\"\n",
    "z=ADDDC(x)"
   ]
  },
  {
   "cell_type": "markdown",
   "metadata": {},
   "source": [
    " When we call the function, we enter a new\n",
    "scope or the scope of AddDC. We pass as an argument to the AddDC function,\n",
    "in this case, AC. $\\textbf{Within the scope of the function, the value\n",
    "of x is set to ACDC}$\n",
    "\n",
    "The function returns the value and is assigned\n",
    "to z. \\\\ Within the global scope, the value z is set to ACDC After the value is returned, the scope of the function is deleted. \\\\ Local variables only exist within the scope\n",
    "of a function.}$"
   ]
  },
  {
   "cell_type": "code",
   "execution_count": 242,
   "metadata": {},
   "outputs": [
    {
     "data": {
      "text/plain": [
       "1982"
      ]
     },
     "execution_count": 242,
     "metadata": {},
     "output_type": "execute_result"
    }
   ],
   "source": [
    "def thriller():\n",
    "    DAte=1982\n",
    "    return DAte\n",
    "thriller()\n",
    "# DAte is local\n",
    "#If a variable is not defined within a function,\n",
    "#Python will check the global scope."
   ]
  },
  {
   "cell_type": "code",
   "execution_count": 248,
   "metadata": {},
   "outputs": [
    {
     "name": "stdout",
     "output_type": "stream",
     "text": [
      "45MILLION\n"
     ]
    }
   ],
   "source": [
    "# exampple global variables\n",
    "#We call the function Pink Floyd. \n",
    "#The variable claimed sales is set to the string\n",
    "#“45 million” in the global scope. When we print the variable, we get a value\n",
    "#of “45 million.” \n",
    "\n",
    "def PF():\n",
    "    global ClaimedSales\n",
    "    ClaimedSales=\"45MILLION\"\n",
    "    return ClaimedSales\n",
    "\n",
    "PF()\n",
    "print(ClaimedSales)"
   ]
  },
  {
   "cell_type": "code",
   "execution_count": 249,
   "metadata": {},
   "outputs": [
    {
     "name": "stdout",
     "output_type": "stream",
     "text": [
      "incorrect\n"
     ]
    }
   ],
   "source": [
    "def g(c):\n",
    "\n",
    "    return \n",
    "c=[1,2,3,4,5]\n",
    "\n",
    "if sum(c)==g(c):   \n",
    "    print(\"correct\")   \n",
    "else:    \n",
    "    print(\"incorrect\")"
   ]
  },
  {
   "cell_type": "code",
   "execution_count": 250,
   "metadata": {},
   "outputs": [
    {
     "name": "stdout",
     "output_type": "stream",
     "text": [
      "incorrect\n"
     ]
    }
   ],
   "source": [
    "def f(a,b):\n",
    "    \n",
    "    return \n",
    "a=4\n",
    "b=2\n",
    "\n",
    "if a*b==f(a,b):   \n",
    "    print(\"correct\")   \n",
    "else:    \n",
    "    print(\"incorrect\")"
   ]
  },
  {
   "cell_type": "code",
   "execution_count": 254,
   "metadata": {},
   "outputs": [
    {
     "name": "stdout",
     "output_type": "stream",
     "text": [
      "3\n"
     ]
    }
   ],
   "source": [
    "#using global and local scopes\n",
    "a=1\n",
    "def fnc2(b):\n",
    "    c=a+b\n",
    "    return c\n",
    "c=fnc2(2)\n",
    "print(c)"
   ]
  },
  {
   "cell_type": "markdown",
   "metadata": {},
   "source": [
    "#### MORE FUCNTIONS"
   ]
  },
  {
   "cell_type": "markdown",
   "metadata": {},
   "source": [
    "Functions\n",
    "A function is a reusable block of code which performs operations specified in the function. They let you break down tasks and allow you to reuse your code in different programs.\n",
    "\n",
    "There are two types of functions :\n",
    "\n",
    "Pre-defined functions\n",
    "User defined functions\n",
    "\n",
    "\n",
    "What is a Function?\n",
    "You can define functions to provide the required functionality. Here are simple rules to define a function in Python:\n",
    "\n",
    "Functions blocks begin def followed by the function name and parentheses ().\n",
    "There are input parameters or arguments that should be placed within these parentheses.\n",
    "You can also define parameters inside these parentheses.\n",
    "There is a body within every function that starts with a colon (:) and is indented.\n",
    "You can also place documentation before the body\n",
    "The statement return exits a function, optionally passing back a value"
   ]
  },
  {
   "cell_type": "code",
   "execution_count": 255,
   "metadata": {},
   "outputs": [
    {
     "data": {
      "text/plain": [
       "'This is'"
      ]
     },
     "execution_count": 255,
     "metadata": {},
     "output_type": "execute_result"
    }
   ],
   "source": [
    "# Define the function for combining strings\n",
    "\n",
    "def con(a, b):\n",
    "    return(a + b)\n",
    "\n",
    "con(\"This \", \"is\")"
   ]
  },
  {
   "cell_type": "code",
   "execution_count": 258,
   "metadata": {},
   "outputs": [
    {
     "name": "stdout",
     "output_type": "stream",
     "text": [
      "48\n"
     ]
    },
    {
     "data": {
      "text/plain": [
       "5"
      ]
     },
     "execution_count": 258,
     "metadata": {},
     "output_type": "execute_result"
    }
   ],
   "source": [
    "# a and b calculation block1\n",
    "\n",
    "a1 = 4\n",
    "b1 = 5\n",
    "c1 = a1 + b1 + 2 * a1 * b1 - 1\n",
    "print(c1)\n",
    "if(c1 < 0):\n",
    "    c1 = 0 \n",
    "else:\n",
    "    c1 = 5\n",
    "c1 "
   ]
  },
  {
   "cell_type": "code",
   "execution_count": 259,
   "metadata": {},
   "outputs": [
    {
     "name": "stdout",
     "output_type": "stream",
     "text": [
      "-1\n"
     ]
    },
    {
     "data": {
      "text/plain": [
       "0"
      ]
     },
     "execution_count": 259,
     "metadata": {},
     "output_type": "execute_result"
    }
   ],
   "source": [
    "# a and b calculation block2\n",
    "\n",
    "a2 = 0\n",
    "b2 = 0\n",
    "c2 = a2 + b2 + 2 * a2 * b2 - 1\n",
    "print(c2)\n",
    "if(c2 < 0):\n",
    "    c2 = 0 \n",
    "else:\n",
    "    c2 = 5\n",
    "c2 "
   ]
  },
  {
   "cell_type": "code",
   "execution_count": 260,
   "metadata": {},
   "outputs": [
    {
     "data": {
      "text/plain": [
       "5"
      ]
     },
     "execution_count": 260,
     "metadata": {},
     "output_type": "execute_result"
    }
   ],
   "source": [
    "\n",
    "def Equation(a,b):\n",
    "    c = a + b + 2 * a * b - 1\n",
    "    if(c < 0):\n",
    "        c = 0 \n",
    "    else:\n",
    "        c = 5\n",
    "    return c\n",
    "a1 = 4\n",
    "b1 = 5\n",
    "c1 = Equation(a1, b1)\n",
    "c1"
   ]
  },
  {
   "cell_type": "code",
   "execution_count": 261,
   "metadata": {},
   "outputs": [
    {
     "name": "stdout",
     "output_type": "stream",
     "text": [
      "Michael Jackson Thriller 1980\n",
      "Oldie\n"
     ]
    }
   ],
   "source": [
    "def type_of_album(artist, album, year_released):\n",
    "    \n",
    "    print(artist, album, year_released)\n",
    "    if year_released > 1980:\n",
    "        return \"Modern\"\n",
    "    else:\n",
    "        return \"Oldie\"\n",
    "    \n",
    "x = type_of_album(\"Michael Jackson\", \"Thriller\", 1980)\n",
    "print(x)"
   ]
  },
  {
   "cell_type": "code",
   "execution_count": 262,
   "metadata": {},
   "outputs": [
    {
     "name": "stdout",
     "output_type": "stream",
     "text": [
      "1\n",
      "1\n",
      "theman\n",
      "abc\n"
     ]
    }
   ],
   "source": [
    "\n",
    "def PrintList(the_list):\n",
    "    for element in the_list:\n",
    "        print(element)\n",
    "PrintList([\"1\",1,\"theman\",\"abc\"])"
   ]
  },
  {
   "cell_type": "code",
   "execution_count": 263,
   "metadata": {},
   "outputs": [
    {
     "name": "stdout",
     "output_type": "stream",
     "text": [
      "Michael Jackson is an artist\n",
      "Whitney Houston is an artist\n"
     ]
    }
   ],
   "source": [
    "#global variables\n",
    "artist = \"Michael Jackson\"\n",
    "\n",
    "def printer(artist):\n",
    "    global internal_var \n",
    "    internal_var= \"Whitney Houston\"\n",
    "    print(artist,\"is an artist\")\n",
    "\n",
    "printer(artist) \n",
    "printer(internal_var)"
   ]
  },
  {
   "cell_type": "code",
   "execution_count": 264,
   "metadata": {},
   "outputs": [
    {
     "name": "stdout",
     "output_type": "stream",
     "text": [
      "AC/DC's rating is: 10.0\n",
      "Deep Purple's rating is: 0.0\n",
      "My favourite band is: AC/DC\n"
     ]
    }
   ],
   "source": [
    "# Example of global variable\n",
    "myFavouriteBand = \"AC/DC\"\n",
    "\n",
    "def getBandRating(bandname):\n",
    "    if bandname == myFavouriteBand:\n",
    "        return 10.0\n",
    "    else:\n",
    "        return 0.0\n",
    "\n",
    "print(\"AC/DC's rating is:\", getBandRating(\"AC/DC\"))\n",
    "print(\"Deep Purple's rating is:\",getBandRating(\"Deep Purple\"))\n",
    "print(\"My favourite band is:\", myFavouriteBand)"
   ]
  },
  {
   "cell_type": "code",
   "execution_count": 265,
   "metadata": {},
   "outputs": [
    {
     "name": "stdout",
     "output_type": "stream",
     "text": [
      "AC/DC's rating is:  10.0\n",
      "Deep Purple's rating is:  0.0\n",
      "My favourite band is AC/DC\n"
     ]
    }
   ],
   "source": [
    "# Example of local variable\n",
    "\n",
    "def getBandRating(bandname):\n",
    "    myFavouriteBand = \"AC/DC\"\n",
    "    if bandname == myFavouriteBand:\n",
    "        return 10.0\n",
    "    else:\n",
    "        return 0.0\n",
    "\n",
    "print(\"AC/DC's rating is: \", getBandRating(\"AC/DC\"))\n",
    "print(\"Deep Purple's rating is: \", getBandRating(\"Deep Purple\"))\n",
    "print(\"My favourite band is\", myFavouriteBand)"
   ]
  },
  {
   "cell_type": "code",
   "execution_count": 266,
   "metadata": {},
   "outputs": [
    {
     "name": "stdout",
     "output_type": "stream",
     "text": [
      "AC/DC's rating is: 0.0\n",
      "Deep Purple's rating is:  10.0\n",
      "My favourite band is: AC/DC\n"
     ]
    }
   ],
   "source": [
    "myFavouriteBand = \"AC/DC\"\n",
    "\n",
    "def getBandRating(bandname):\n",
    "    myFavouriteBand = \"Deep Purple\"\n",
    "    if bandname == myFavouriteBand:\n",
    "        return 10.0\n",
    "    else:\n",
    "        return 0.0\n",
    "\n",
    "print(\"AC/DC's rating is:\",getBandRating(\"AC/DC\"))\n",
    "print(\"Deep Purple's rating is: \",getBandRating(\"Deep Purple\"))\n",
    "print(\"My favourite band is:\",myFavouriteBand)"
   ]
  },
  {
   "cell_type": "markdown",
   "metadata": {},
   "source": [
    "## Objects and classes"
   ]
  },
  {
   "cell_type": "markdown",
   "metadata": {},
   "source": [
    "### In this module we  will review the objects and classes"
   ]
  },
  {
   "cell_type": "markdown",
   "metadata": {},
   "source": [
    "Python hast dta types:\n",
    "\n",
    "- integers\n",
    "- Floats\n",
    "- strings\n",
    "- lists\n",
    "- dictionaries\n",
    "- booleans\n",
    "\n",
    "Each one of them are objects and every object has the following:\n",
    "- type\n",
    "- internal representation (blueprint)\n",
    "- set of fucntions called methods to interact with data\n",
    "\n",
    "An object is an instance of a particular type, for example  Type 1 (object 1,2 3 and 4 )and Type 2 (object 1 2,3,4) fo every object is an instance of type 2 or type 1. \n",
    "\n"
   ]
  },
  {
   "cell_type": "code",
   "execution_count": 269,
   "metadata": {},
   "outputs": [],
   "source": [
    "# for example everytime we  crete an \n",
    "#integer we create an integer object \n",
    "#or instance integer\n",
    "a=1\n",
    "b=2\n",
    "c=3\n",
    "d=4\n",
    "# 4 four instances of type integer\n",
    "# everytime we create a list we create \n",
    "#an instance of type list\n",
    "aa=[1,2,3,4,5]\n",
    "bb=[\"2\",\"3\",\"4\"]\n",
    "cc=[False,True, False]"
   ]
  },
  {
   "cell_type": "code",
   "execution_count": 271,
   "metadata": {},
   "outputs": [
    {
     "name": "stdout",
     "output_type": "stream",
     "text": [
      "<class 'list'> <class 'int'> <class 'str'>\n"
     ]
    }
   ],
   "source": [
    "# as reviewed  to get the type of the object\n",
    "print(type(aa),type(a),type(\"clor\")) \n",
    "# dictionary and set"
   ]
  },
  {
   "cell_type": "markdown",
   "metadata": {},
   "source": [
    "### METHODS\n",
    "Class or types methods are fucntions that every instance of that class or type provides or hwo we interact with the object.\n",
    "\n",
    "- sorting is an example of a method that interacts with the data in the object\n",
    "- sort changes the order within the object, call the method by adding a point and then .sort()\n"
   ]
  },
  {
   "cell_type": "code",
   "execution_count": 274,
   "metadata": {},
   "outputs": [
    {
     "name": "stdout",
     "output_type": "stream",
     "text": [
      "[2, 5, 5, 6, 6, 8, 9, 10, 10]\n",
      "[10, 10, 9, 8, 6, 6, 5, 5, 2]\n"
     ]
    }
   ],
   "source": [
    "Rating=[10,9,6,5,10,8,5,2,6]\n",
    "Rating.sort()\n",
    "# this changes the data contained in the pbject\n",
    "print(Rating)\n",
    "# reversing the action with method reverse\n",
    "Rating.reverse()\n",
    "print(Rating)"
   ]
  },
  {
   "cell_type": "markdown",
   "metadata": {},
   "source": [
    "### CREAting my own class in python\n"
   ]
  },
  {
   "cell_type": "markdown",
   "metadata": {},
   "source": [
    "my class is data attributes and the class has\n",
    "methods we then create instances or instances \n",
    "of that classs of objects.\n",
    "\n",
    "The class data attributes define the class. \n",
    "\n",
    "CLASS:\n",
    "\n",
    "CIRCLE: attribute{olor, radius}\n",
    "\n",
    "RECTANGLE: sttributes{height, width,color}\n",
    "\n",
    "To create the class circle  we neeed t include class definition, telling python that we are crating a new class.\n"
   ]
  },
  {
   "cell_type": "code",
   "execution_count": 289,
   "metadata": {},
   "outputs": [],
   "source": [
    "#classdefinition name of class(class_parent)\n",
    "# in this course always (object)\n",
    "# we can create an object that is an instance \n",
    "# of type circle. Color data Attribute is red \n",
    "# radius is four,  asecond object we can create\n",
    "#  is instance of type circle, color attribute \n",
    "# is green and radius is 2\n",
    "# we have thus differente ojects of class circle\n",
    "# or type circle\n",
    "\n",
    "#first we define pur class\n",
    "#second we define data attributes andinitialize\n",
    "#each instance of the class\n",
    "\n",
    "#__init__ is a constructor use to initialize data\n",
    "#attributes\n",
    "\n",
    "# radius and color parameters initialize \n",
    "# data attributes\n",
    "\n",
    "# self ´parameter refers to newly created instance \n",
    "# of teh class\n",
    "\n",
    "# finally (self.radius=radius, etc....) \n",
    "#The parameters ’radius’ and ’color’ can be used\n",
    "#in the constructor’s body to access the\n",
    "#values passed to the class constructor when\n",
    "#the class is constructed.\n",
    "\n",
    "class Circle(object):\n",
    "    def __init__(self,radius,color):\n",
    "        self.radius=radius\n",
    "        self.color=color"
   ]
  },
  {
   "cell_type": "code",
   "execution_count": 288,
   "metadata": {},
   "outputs": [],
   "source": [
    "class Rectangle(object):\n",
    "    def __init__(self,height,width,color):\n",
    "        self.height=radius\n",
    "        self.width=width\n",
    "        self.color=color"
   ]
  },
  {
   "cell_type": "markdown",
   "metadata": {},
   "source": [
    "#### Once created the class in roder to  create an object of class circle we introduce a variable, this will be the name of the object. we create the object by using the object constructor.\n",
    "\n",
    "#### the object constructor consist of: name of the class, parameters"
   ]
  },
  {
   "cell_type": "code",
   "execution_count": 292,
   "metadata": {},
   "outputs": [],
   "source": [
    "#RedCircle... name of the object\n",
    "#Circle(10,\"red\").... object constructor \n",
    "#Circle is name of class \n",
    "#(10,\"red\") are teh parameters\n",
    "RedCircle=Circle(10,\"red\")"
   ]
  },
  {
   "cell_type": "markdown",
   "metadata": {},
   "source": [
    "##### When we create an object we call the code like a function, the arguments passed to the circle constructor are used to initialize the newly circle instance.\n",
    "\n",
    "#### helpful to think of selft as a box that contains all the data attributes of the object in this case:\n",
    "- self.radius=10\n",
    "- self.color='red'\n"
   ]
  },
  {
   "cell_type": "code",
   "execution_count": 301,
   "metadata": {},
   "outputs": [
    {
     "name": "stdout",
     "output_type": "stream",
     "text": [
      "<class '__main__.Circle'>\n",
      "10\n",
      "red\n"
     ]
    }
   ],
   "source": [
    "c1=Circle(10,\"red\")\n",
    "#typing the type gives me the class this is Circle\n",
    "print(type(c1))\n",
    "#Typing the object's name followed by a dot \n",
    "#and the data attribute name gives us the data\n",
    "#attribute value, for example radius. \n",
    "#In this case, the radius is ten.\n",
    "print(c1.radius)\n",
    "print(c1.color)"
   ]
  },
  {
   "cell_type": "markdown",
   "metadata": {},
   "source": [
    "In python is possible to set or change the parameter directly. Usually to change the data in ab object we define methods in the class."
   ]
  },
  {
   "cell_type": "code",
   "execution_count": 304,
   "metadata": {},
   "outputs": [
    {
     "name": "stdout",
     "output_type": "stream",
     "text": [
      "Blue\n"
     ]
    }
   ],
   "source": [
    "c1.color=\"Blue\"\n",
    "print(c1.color)"
   ]
  },
  {
   "cell_type": "markdown",
   "metadata": {},
   "source": [
    "### METHODS\n",
    "Let’s discuss methods. We have seen how data attributes consist of\n",
    "the data defining the objects.\n",
    "\n",
    "Methods are functions that interact and change\n",
    "the data attributes, changing or using the data attributes of the object.\n",
    "Let's say we would like to change the size of a circle; this involves changing the radius."
   ]
  },
  {
   "cell_type": "code",
   "execution_count": 307,
   "metadata": {},
   "outputs": [],
   "source": [
    "# we added the METHOD add radius by adding r to radius\n",
    "# to che class circle\n",
    "# method is a fucntion that requires the self\n",
    "# as well as other parameter\n",
    "# in this case we add a value radius (radius +r)\n",
    "class Circle(object):\n",
    "    def __init__(self,radius,color):\n",
    "        self.radius=radius;\n",
    "        self.color=color;\n",
    "    def add_radius(self,r):\n",
    "        self.radius=self.radius +r\n",
    "        return(self.radius)"
   ]
  },
  {
   "cell_type": "code",
   "execution_count": 311,
   "metadata": {},
   "outputs": [
    {
     "name": "stdout",
     "output_type": "stream",
     "text": [
      "new radius is 10\n"
     ]
    }
   ],
   "source": [
    "# we created an object with the object constructor\n",
    "# radius is set to 2 and color as red.\n",
    "# in the constructor\n",
    "C1=Circle(2,'red')\n",
    "# we call the method by adding a dot followed \n",
    "# by the method name and parenthesis .add_radius(r)\n",
    "# in this case the argument of the fucntion is the\n",
    "# argument  we woudl like to add.\n",
    "\n",
    "#We do not need to worry about the self-parameter\n",
    "#when calling the method—just like with the \n",
    "#constructor, Python will take care of that for us. \n",
    "\n",
    "# In many cases, there may not be any parameters\n",
    "# (other than self) specified in the method’s \n",
    "# definition, so we don’t pass any arguments\n",
    "\n",
    "C1.add_radius(8)\n",
    "print(\"New radius is {}\".format(C1.radius))"
   ]
  },
  {
   "cell_type": "markdown",
   "metadata": {},
   "source": [
    "Internally  the methodis called with a value of 8 and the propper self object. The method assigns a new value to self.radius, changing the object.\n",
    "\n",
    "- We can add default values to the parameters of a class constructor\n",
    "\n",
    "In the lab we create  methdo called Draw Circle\n",
    "def drawCircle(self):\n",
    "\n",
    "- we can create a new object of type Circle using the constructor.\n",
    "- The color will be red and the radius will be 3. \n",
    "- We can access the data attribute radius.\n",
    "- We can access the attribute color. Finally we can use the method “draw Circle” to draw the circle.\n",
    " "
   ]
  },
  {
   "cell_type": "code",
   "execution_count": 312,
   "metadata": {},
   "outputs": [],
   "source": [
    "class Circle_2(object):\n",
    "    def __init__(self,radius=3,color='red'):\n",
    "        self.radius=radius;\n",
    "        self.color=color;"
   ]
  },
  {
   "cell_type": "code",
   "execution_count": 314,
   "metadata": {},
   "outputs": [
    {
     "data": {
      "text/plain": [
       "['__class__',\n",
       " '__delattr__',\n",
       " '__dict__',\n",
       " '__dir__',\n",
       " '__doc__',\n",
       " '__eq__',\n",
       " '__format__',\n",
       " '__ge__',\n",
       " '__getattribute__',\n",
       " '__gt__',\n",
       " '__hash__',\n",
       " '__init__',\n",
       " '__init_subclass__',\n",
       " '__le__',\n",
       " '__lt__',\n",
       " '__module__',\n",
       " '__ne__',\n",
       " '__new__',\n",
       " '__reduce__',\n",
       " '__reduce_ex__',\n",
       " '__repr__',\n",
       " '__setattr__',\n",
       " '__sizeof__',\n",
       " '__str__',\n",
       " '__subclasshook__',\n",
       " '__weakref__',\n",
       " 'add_radius',\n",
       " 'color',\n",
       " 'radius']"
      ]
     },
     "execution_count": 314,
     "metadata": {},
     "output_type": "execute_result"
    }
   ],
   "source": [
    "# The “D I R” function is useful for obtaining the\n",
    "#list of data attributes and methods associated\n",
    "#with a class. T\n",
    "#he object you’re interested in is passed \n",
    "#as an argument\n",
    "#add_radius',\n",
    "# 'color',\n",
    "# 'radius']\n",
    "dir (C1)"
   ]
  },
  {
   "cell_type": "markdown",
   "metadata": {},
   "source": [
    "#### class EXAMPLE\n",
    "\n",
    "The class Car has four data attributes: make, model, colour and number of owners (owner_number). \n",
    "\n",
    "The method  $\\textbf{car_info()}$  prints out the data attributes and the method $\\textbf{sell()}$ increments the number of owners."
   ]
  },
  {
   "cell_type": "code",
   "execution_count": 323,
   "metadata": {},
   "outputs": [],
   "source": [
    "class Car(object):\n",
    "    def __init__(self,make,model,color):\n",
    "        self.make=make;\n",
    "        self.model=model;\n",
    "        self.color=color;\n",
    "        self.owner_number=0\n",
    "    #car_info is a method\n",
    "    def car_info(self):\n",
    "        print(\"make: \",self.make)\n",
    "        print(\"model:\", self.model)\n",
    "        print(\"color:\",self.color)\n",
    "        print(\"number of owners:\",self.owner_number)\n",
    "    #sell is a method\n",
    "    def sell(self):\n",
    "        self.owner_number=self.owner_number+1"
   ]
  },
  {
   "cell_type": "code",
   "execution_count": 327,
   "metadata": {},
   "outputs": [],
   "source": [
    "# create a car object with the given data\n",
    "make=\"BMW\"\n",
    "model=\"M3\"\n",
    "color=\"red\"\n",
    "mycar=Car(make,model,color)"
   ]
  },
  {
   "cell_type": "code",
   "execution_count": 328,
   "metadata": {},
   "outputs": [
    {
     "name": "stdout",
     "output_type": "stream",
     "text": [
      "make:  BMW\n",
      "model: M3\n",
      "color: red\n",
      "number of owners: 0\n"
     ]
    }
   ],
   "source": [
    "mycar.car_info()"
   ]
  },
  {
   "cell_type": "code",
   "execution_count": 326,
   "metadata": {},
   "outputs": [
    {
     "name": "stdout",
     "output_type": "stream",
     "text": [
      "make:  BMW\n",
      "model: M3\n",
      "color: red\n",
      "number of owners: 1\n"
     ]
    }
   ],
   "source": [
    "mycar.sell()\n",
    "mycar.car_info()"
   ]
  },
  {
   "cell_type": "code",
   "execution_count": 329,
   "metadata": {},
   "outputs": [],
   "source": [
    "for i in range(5):\n",
    "    mycar.sell()"
   ]
  },
  {
   "cell_type": "code",
   "execution_count": 330,
   "metadata": {},
   "outputs": [
    {
     "name": "stdout",
     "output_type": "stream",
     "text": [
      "make:  BMW\n",
      "model: M3\n",
      "color: red\n",
      "number of owners: 5\n"
     ]
    }
   ],
   "source": [
    "mycar.car_info()"
   ]
  },
  {
   "cell_type": "markdown",
   "metadata": {},
   "source": [
    "#### class EXAMPLE 2"
   ]
  },
  {
   "cell_type": "code",
   "execution_count": 332,
   "metadata": {},
   "outputs": [],
   "source": [
    "import matplotlib.pyplot as plt\n",
    "%matplotlib inline  "
   ]
  },
  {
   "cell_type": "code",
   "execution_count": 333,
   "metadata": {},
   "outputs": [],
   "source": [
    "class Circle(object):\n",
    "    \n",
    "    # Constructor\n",
    "    def __init__(self, radius=3, color='blue'):\n",
    "        self.radius = radius\n",
    "        self.color = color \n",
    "    \n",
    "    # Method\n",
    "    def add_radius(self, r):\n",
    "        self.radius = self.radius + r\n",
    "        return(self.radius)\n",
    "    # Method\n",
    "    def drawCircle(self):\n",
    "        plt.gca().add_patch(plt.Circle((0, 0), radius=self.radius, fc=self.color))\n",
    "        plt.axis('scaled')\n",
    "        plt.show()  \n",
    "    "
   ]
  },
  {
   "cell_type": "code",
   "execution_count": 334,
   "metadata": {},
   "outputs": [],
   "source": [
    "# Create an object RedCircle\n",
    "\n",
    "RedCircle = Circle(10, 'red')"
   ]
  },
  {
   "cell_type": "code",
   "execution_count": 335,
   "metadata": {},
   "outputs": [
    {
     "data": {
      "text/plain": [
       "['__class__',\n",
       " '__delattr__',\n",
       " '__dict__',\n",
       " '__dir__',\n",
       " '__doc__',\n",
       " '__eq__',\n",
       " '__format__',\n",
       " '__ge__',\n",
       " '__getattribute__',\n",
       " '__gt__',\n",
       " '__hash__',\n",
       " '__init__',\n",
       " '__init_subclass__',\n",
       " '__le__',\n",
       " '__lt__',\n",
       " '__module__',\n",
       " '__ne__',\n",
       " '__new__',\n",
       " '__reduce__',\n",
       " '__reduce_ex__',\n",
       " '__repr__',\n",
       " '__setattr__',\n",
       " '__sizeof__',\n",
       " '__str__',\n",
       " '__subclasshook__',\n",
       " '__weakref__',\n",
       " 'add_radius',\n",
       " 'color',\n",
       " 'drawCircle',\n",
       " 'radius']"
      ]
     },
     "execution_count": 335,
     "metadata": {},
     "output_type": "execute_result"
    }
   ],
   "source": [
    "dir(RedCircle)"
   ]
  },
  {
   "cell_type": "code",
   "execution_count": 336,
   "metadata": {},
   "outputs": [
    {
     "data": {
      "text/plain": [
       "10"
      ]
     },
     "execution_count": 336,
     "metadata": {},
     "output_type": "execute_result"
    }
   ],
   "source": [
    "RedCircle.radius"
   ]
  },
  {
   "cell_type": "code",
   "execution_count": 337,
   "metadata": {},
   "outputs": [
    {
     "data": {
      "text/plain": [
       "'red'"
      ]
     },
     "execution_count": 337,
     "metadata": {},
     "output_type": "execute_result"
    }
   ],
   "source": [
    "RedCircle.color"
   ]
  },
  {
   "cell_type": "code",
   "execution_count": 338,
   "metadata": {},
   "outputs": [
    {
     "data": {
      "text/plain": [
       "1"
      ]
     },
     "execution_count": 338,
     "metadata": {},
     "output_type": "execute_result"
    }
   ],
   "source": [
    "RedCircle.radius = 1\n",
    "RedCircle.radius"
   ]
  },
  {
   "cell_type": "code",
   "execution_count": 339,
   "metadata": {},
   "outputs": [
    {
     "data": {
      "image/png": "[encoded data removed]",
      "text/plain": [
       "<Figure size 432x288 with 1 Axes>"
      ]
     },
     "metadata": {
      "needs_background": "light"
     },
     "output_type": "display_data"
    }
   ],
   "source": [
    "RedCircle.drawCircle()"
   ]
  },
  {
   "cell_type": "code",
   "execution_count": 340,
   "metadata": {},
   "outputs": [
    {
     "name": "stdout",
     "output_type": "stream",
     "text": [
      "Radius of object: 1\n",
      "Radius of object of after applying the method add_radius(2): 3\n",
      "Radius of object of after applying the method add_radius(5): 8\n"
     ]
    }
   ],
   "source": [
    "# Use method to change the object attribute radius\n",
    "\n",
    "print('Radius of object:',RedCircle.radius)\n",
    "RedCircle.add_radius(2)\n",
    "print('Radius of object of after applying the method add_radius(2):',RedCircle.radius)\n",
    "RedCircle.add_radius(5)\n",
    "print('Radius of object of after applying the method add_radius(5):',RedCircle.radius)"
   ]
  },
  {
   "cell_type": "code",
   "execution_count": 341,
   "metadata": {},
   "outputs": [],
   "source": [
    "# Create a blue circle with a given radius\n",
    "\n",
    "BlueCircle = Circle(radius=100)"
   ]
  },
  {
   "cell_type": "code",
   "execution_count": 342,
   "metadata": {},
   "outputs": [
    {
     "data": {
      "text/plain": [
       "'blue'"
      ]
     },
     "execution_count": 342,
     "metadata": {},
     "output_type": "execute_result"
    }
   ],
   "source": [
    "# Print the object attribute color\n",
    "\n",
    "BlueCircle.color"
   ]
  },
  {
   "cell_type": "code",
   "execution_count": 343,
   "metadata": {},
   "outputs": [
    {
     "data": {
      "image/png": "[encoded data removed]",
      "text/plain": [
       "<Figure size 432x288 with 1 Axes>"
      ]
     },
     "metadata": {
      "needs_background": "light"
     },
     "output_type": "display_data"
    }
   ],
   "source": [
    "# Call the method drawCircle\n",
    "\n",
    "BlueCircle.drawCircle()"
   ]
  },
  {
   "cell_type": "code",
   "execution_count": 344,
   "metadata": {},
   "outputs": [],
   "source": [
    "# Create a new Rectangle class for creating a rectangle object\n",
    "\n",
    "class Rectangle(object):\n",
    "    \n",
    "    # Constructor\n",
    "    def __init__(self, width=2, height=3, color='r'):\n",
    "        self.height = height \n",
    "        self.width = width\n",
    "        self.color = color\n",
    "    \n",
    "    # Method\n",
    "    def drawRectangle(self):\n",
    "        plt.gca().add_patch(plt.Rectangle((0, 0), self.width, self.height ,fc=self.color))\n",
    "        plt.axis('scaled')\n",
    "        plt.show()"
   ]
  },
  {
   "cell_type": "code",
   "execution_count": 345,
   "metadata": {},
   "outputs": [],
   "source": [
    "# Create a new object rectangle\n",
    "\n",
    "SkinnyBlueRectangle = Rectangle(2, 10, 'blue')"
   ]
  },
  {
   "cell_type": "code",
   "execution_count": 346,
   "metadata": {},
   "outputs": [
    {
     "data": {
      "text/plain": [
       "10"
      ]
     },
     "execution_count": 346,
     "metadata": {},
     "output_type": "execute_result"
    }
   ],
   "source": [
    "# Print the object attribute height\n",
    "\n",
    "SkinnyBlueRectangle.height "
   ]
  },
  {
   "cell_type": "code",
   "execution_count": 347,
   "metadata": {},
   "outputs": [
    {
     "data": {
      "text/plain": [
       "2"
      ]
     },
     "execution_count": 347,
     "metadata": {},
     "output_type": "execute_result"
    }
   ],
   "source": [
    "# Print the object attribute width\n",
    "\n",
    "SkinnyBlueRectangle.width"
   ]
  },
  {
   "cell_type": "code",
   "execution_count": 348,
   "metadata": {},
   "outputs": [
    {
     "data": {
      "text/plain": [
       "'blue'"
      ]
     },
     "execution_count": 348,
     "metadata": {},
     "output_type": "execute_result"
    }
   ],
   "source": [
    "# Print the object attribute color\n",
    "\n",
    "SkinnyBlueRectangle.color"
   ]
  },
  {
   "cell_type": "code",
   "execution_count": 349,
   "metadata": {},
   "outputs": [
    {
     "data": {
      "image/png": "[encoded data removed]",
      "text/plain": [
       "<Figure size 432x288 with 1 Axes>"
      ]
     },
     "metadata": {
      "needs_background": "light"
     },
     "output_type": "display_data"
    }
   ],
   "source": [
    "# Use the drawRectangle method to draw the shape\n",
    "\n",
    "SkinnyBlueRectangle.drawRectangle()"
   ]
  },
  {
   "cell_type": "code",
   "execution_count": 350,
   "metadata": {},
   "outputs": [],
   "source": [
    "# Create a new object rectangle\n",
    "\n",
    "FatYellowRectangle = Rectangle(20, 5, 'yellow')"
   ]
  },
  {
   "cell_type": "code",
   "execution_count": 351,
   "metadata": {},
   "outputs": [],
   "source": [
    "# Create a new object rectangle\n",
    "\n",
    "FatYellowRectangle = Rectangle(20, 5, 'yellow')"
   ]
  },
  {
   "cell_type": "code",
   "execution_count": 352,
   "metadata": {},
   "outputs": [
    {
     "data": {
      "text/plain": [
       "5"
      ]
     },
     "execution_count": 352,
     "metadata": {},
     "output_type": "execute_result"
    }
   ],
   "source": [
    "# Print the object attribute height\n",
    "\n",
    "FatYellowRectangle.height "
   ]
  },
  {
   "cell_type": "code",
   "execution_count": 353,
   "metadata": {},
   "outputs": [
    {
     "data": {
      "text/plain": [
       "20"
      ]
     },
     "execution_count": 353,
     "metadata": {},
     "output_type": "execute_result"
    }
   ],
   "source": [
    "# Print the object attribute width\n",
    "\n",
    "FatYellowRectangle.width"
   ]
  },
  {
   "cell_type": "code",
   "execution_count": 354,
   "metadata": {},
   "outputs": [
    {
     "data": {
      "text/plain": [
       "'yellow'"
      ]
     },
     "execution_count": 354,
     "metadata": {},
     "output_type": "execute_result"
    }
   ],
   "source": [
    "# Print the object attribute color\n",
    "\n",
    "FatYellowRectangle.color"
   ]
  },
  {
   "cell_type": "code",
   "execution_count": 355,
   "metadata": {},
   "outputs": [
    {
     "data": {
      "image/png": "[encoded data removed]",
      "text/plain": [
       "<Figure size 432x288 with 1 Axes>"
      ]
     },
     "metadata": {
      "needs_background": "light"
     },
     "output_type": "display_data"
    }
   ],
   "source": [
    "# Use the drawRectangle method to draw the shape\n",
    "\n",
    "FatYellowRectangle.drawRectangle()"
   ]
  },
  {
   "cell_type": "code",
   "execution_count": null,
   "metadata": {},
   "outputs": [],
   "source": []
  },
  {
   "cell_type": "code",
   "execution_count": null,
   "metadata": {},
   "outputs": [],
   "source": []
  },
  {
   "cell_type": "code",
   "execution_count": null,
   "metadata": {},
   "outputs": [],
   "source": []
  },
  {
   "cell_type": "code",
   "execution_count": null,
   "metadata": {},
   "outputs": [],
   "source": []
  },
  {
   "cell_type": "code",
   "execution_count": null,
   "metadata": {},
   "outputs": [],
   "source": []
  }
 ],
 "metadata": {
  "kernelspec": {
   "display_name": "Python 3",
   "language": "python",
   "name": "python3"
  },
  "language_info": {
   "codemirror_mode": {
    "name": "ipython",
    "version": 3
   },
   "file_extension": ".py",
   "mimetype": "text/x-python",
   "name": "python",
   "nbconvert_exporter": "python",
   "pygments_lexer": "ipython3",
   "version": "3.6.7"
  }
 },
 "nbformat": 4,
 "nbformat_minor": 2
}
